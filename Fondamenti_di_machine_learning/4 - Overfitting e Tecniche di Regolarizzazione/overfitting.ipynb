{
 "cells": [
  {
   "cell_type": "markdown",
   "metadata": {
    "colab_type": "text",
    "id": "view-in-github"
   },
   "source": [
    "<a href=\"https://colab.research.google.com/github/ProfAI/machine-learning-fondamenti/blob/main/4%20-%20Overfitting%20e%20Tecniche%20di%20Regolarizzazione/overfitting.ipynb\" target=\"_parent\"><img src=\"https://colab.research.google.com/assets/colab-badge.svg\" alt=\"Open In Colab\"/></a>"
   ]
  },
  {
   "cell_type": "markdown",
   "metadata": {
    "id": "pSMJzq2XB5Dd"
   },
   "source": [
    "## Riconoscere l'overfitting\n"
   ]
  },
  {
   "cell_type": "code",
   "execution_count": 2,
   "metadata": {
    "id": "QB_Wb9t1Bybg"
   },
   "outputs": [],
   "source": [
    "import numpy as np\n",
    "from sklearn.datasets import make_regression\n",
    "from sklearn.linear_model import LinearRegression\n",
    "from sklearn.preprocessing import StandardScaler\n",
    "from sklearn.metrics import mean_squared_error, r2_score"
   ]
  },
  {
   "cell_type": "code",
   "execution_count": 3,
   "metadata": {
    "id": "EntnLntnC2Ag"
   },
   "outputs": [],
   "source": [
    "RANDOM_SEED = 0 #per ottenere gli stessi risultati"
   ]
  },
  {
   "cell_type": "code",
   "execution_count": 4,
   "metadata": {
    "colab": {
     "base_uri": "https://localhost:8080/"
    },
    "id": "fP22iyyNCGnn",
    "outputId": "324d700f-7171-49df-ac3c-efabcf87eb28"
   },
   "outputs": [
    {
     "name": "stdout",
     "output_type": "stream",
     "text": [
      "(100, 100) (100,)\n"
     ]
    }
   ],
   "source": [
    "from sklearn.model_selection import train_test_split\n",
    "\n",
    "#un buon modo per avere overfitting è avere numero di esempi uguale al numero di esempi\n",
    "X, y = make_regression(n_samples=100, n_features=100, n_informative=10, n_targets=1, bias=0.0, tail_strength=0.5, noise=50.0, random_state=RANDOM_SEED)\n",
    "print(X.shape, y.shape)"
   ]
  },
  {
   "cell_type": "markdown",
   "metadata": {
    "id": "bUa7HOqgEwvE"
   },
   "source": [
    "### Hold-out"
   ]
  },
  {
   "cell_type": "code",
   "execution_count": 5,
   "metadata": {
    "colab": {
     "base_uri": "https://localhost:8080/"
    },
    "id": "km2EJTiXEwNG",
    "outputId": "decb10dc-38c4-4179-a4d9-876f1a416fbd"
   },
   "outputs": [
    {
     "name": "stdout",
     "output_type": "stream",
     "text": [
      "(70, 100) (70,)\n",
      "(30, 100) (30,)\n"
     ]
    }
   ],
   "source": [
    "X_train, X_test, y_train, y_test = train_test_split(X, y, test_size = 0.3, random_state=RANDOM_SEED)\n",
    "print(X_train.shape, y_train.shape)\n",
    "print(X_test.shape, y_test.shape)"
   ]
  },
  {
   "cell_type": "code",
   "execution_count": 6,
   "metadata": {
    "id": "Dj8LnjYsFShG"
   },
   "outputs": [],
   "source": [
    "ss = StandardScaler() #standardizziamo i dati\n",
    "X_train = ss.fit_transform(X_train) \n",
    "X_test = ss.transform(X_test) #applichiamo la stessa trasformazione anche per i dati di test"
   ]
  },
  {
   "cell_type": "code",
   "execution_count": 7,
   "metadata": {
    "colab": {
     "base_uri": "https://localhost:8080/"
    },
    "id": "bIlYP7KhCUo4",
    "outputId": "216217ed-f718-47b4-c4ae-42ddf989e30c"
   },
   "outputs": [
    {
     "data": {
      "text/html": [
       "<style>#sk-container-id-1 {color: black;}#sk-container-id-1 pre{padding: 0;}#sk-container-id-1 div.sk-toggleable {background-color: white;}#sk-container-id-1 label.sk-toggleable__label {cursor: pointer;display: block;width: 100%;margin-bottom: 0;padding: 0.3em;box-sizing: border-box;text-align: center;}#sk-container-id-1 label.sk-toggleable__label-arrow:before {content: \"▸\";float: left;margin-right: 0.25em;color: #696969;}#sk-container-id-1 label.sk-toggleable__label-arrow:hover:before {color: black;}#sk-container-id-1 div.sk-estimator:hover label.sk-toggleable__label-arrow:before {color: black;}#sk-container-id-1 div.sk-toggleable__content {max-height: 0;max-width: 0;overflow: hidden;text-align: left;background-color: #f0f8ff;}#sk-container-id-1 div.sk-toggleable__content pre {margin: 0.2em;color: black;border-radius: 0.25em;background-color: #f0f8ff;}#sk-container-id-1 input.sk-toggleable__control:checked~div.sk-toggleable__content {max-height: 200px;max-width: 100%;overflow: auto;}#sk-container-id-1 input.sk-toggleable__control:checked~label.sk-toggleable__label-arrow:before {content: \"▾\";}#sk-container-id-1 div.sk-estimator input.sk-toggleable__control:checked~label.sk-toggleable__label {background-color: #d4ebff;}#sk-container-id-1 div.sk-label input.sk-toggleable__control:checked~label.sk-toggleable__label {background-color: #d4ebff;}#sk-container-id-1 input.sk-hidden--visually {border: 0;clip: rect(1px 1px 1px 1px);clip: rect(1px, 1px, 1px, 1px);height: 1px;margin: -1px;overflow: hidden;padding: 0;position: absolute;width: 1px;}#sk-container-id-1 div.sk-estimator {font-family: monospace;background-color: #f0f8ff;border: 1px dotted black;border-radius: 0.25em;box-sizing: border-box;margin-bottom: 0.5em;}#sk-container-id-1 div.sk-estimator:hover {background-color: #d4ebff;}#sk-container-id-1 div.sk-parallel-item::after {content: \"\";width: 100%;border-bottom: 1px solid gray;flex-grow: 1;}#sk-container-id-1 div.sk-label:hover label.sk-toggleable__label {background-color: #d4ebff;}#sk-container-id-1 div.sk-serial::before {content: \"\";position: absolute;border-left: 1px solid gray;box-sizing: border-box;top: 0;bottom: 0;left: 50%;z-index: 0;}#sk-container-id-1 div.sk-serial {display: flex;flex-direction: column;align-items: center;background-color: white;padding-right: 0.2em;padding-left: 0.2em;position: relative;}#sk-container-id-1 div.sk-item {position: relative;z-index: 1;}#sk-container-id-1 div.sk-parallel {display: flex;align-items: stretch;justify-content: center;background-color: white;position: relative;}#sk-container-id-1 div.sk-item::before, #sk-container-id-1 div.sk-parallel-item::before {content: \"\";position: absolute;border-left: 1px solid gray;box-sizing: border-box;top: 0;bottom: 0;left: 50%;z-index: -1;}#sk-container-id-1 div.sk-parallel-item {display: flex;flex-direction: column;z-index: 1;position: relative;background-color: white;}#sk-container-id-1 div.sk-parallel-item:first-child::after {align-self: flex-end;width: 50%;}#sk-container-id-1 div.sk-parallel-item:last-child::after {align-self: flex-start;width: 50%;}#sk-container-id-1 div.sk-parallel-item:only-child::after {width: 0;}#sk-container-id-1 div.sk-dashed-wrapped {border: 1px dashed gray;margin: 0 0.4em 0.5em 0.4em;box-sizing: border-box;padding-bottom: 0.4em;background-color: white;}#sk-container-id-1 div.sk-label label {font-family: monospace;font-weight: bold;display: inline-block;line-height: 1.2em;}#sk-container-id-1 div.sk-label-container {text-align: center;}#sk-container-id-1 div.sk-container {/* jupyter's `normalize.less` sets `[hidden] { display: none; }` but bootstrap.min.css set `[hidden] { display: none !important; }` so we also need the `!important` here to be able to override the default hidden behavior on the sphinx rendered scikit-learn.org. See: https://github.com/scikit-learn/scikit-learn/issues/21755 */display: inline-block !important;position: relative;}#sk-container-id-1 div.sk-text-repr-fallback {display: none;}</style><div id=\"sk-container-id-1\" class=\"sk-top-container\"><div class=\"sk-text-repr-fallback\"><pre>LinearRegression()</pre><b>In a Jupyter environment, please rerun this cell to show the HTML representation or trust the notebook. <br />On GitHub, the HTML representation is unable to render, please try loading this page with nbviewer.org.</b></div><div class=\"sk-container\" hidden><div class=\"sk-item\"><div class=\"sk-estimator sk-toggleable\"><input class=\"sk-toggleable__control sk-hidden--visually\" id=\"sk-estimator-id-1\" type=\"checkbox\" checked><label for=\"sk-estimator-id-1\" class=\"sk-toggleable__label sk-toggleable__label-arrow\">LinearRegression</label><div class=\"sk-toggleable__content\"><pre>LinearRegression()</pre></div></div></div></div></div>"
      ],
      "text/plain": [
       "LinearRegression()"
      ]
     },
     "execution_count": 7,
     "metadata": {},
     "output_type": "execute_result"
    }
   ],
   "source": [
    "lr = LinearRegression()\n",
    "lr.fit(X_train, y_train) #addestriamo il modello"
   ]
  },
  {
   "cell_type": "code",
   "execution_count": 8,
   "metadata": {
    "id": "75gYJiSODTy5"
   },
   "outputs": [],
   "source": [
    "def evaluate_model(model, dataset):\n",
    "\n",
    "  X, y = dataset\n",
    "\n",
    "  y_pred = model.predict(X)\n",
    "\n",
    "  print(f\"MSE: {mean_squared_error(y, y_pred):.3f}\")\n",
    "  print(f\"R2: {r2_score(y, y_pred):.3f}\")"
   ]
  },
  {
   "cell_type": "code",
   "execution_count": 9,
   "metadata": {
    "colab": {
     "base_uri": "https://localhost:8080/"
    },
    "id": "6kYyudgjDH9R",
    "outputId": "7d36c312-b9ce-4fca-b93a-1cc7e66f1b1f",
    "scrolled": true
   },
   "outputs": [
    {
     "name": "stdout",
     "output_type": "stream",
     "text": [
      "MSE: 0.000\n",
      "R2: 1.000\n"
     ]
    }
   ],
   "source": [
    "evaluate_model(lr, (X_train, y_train))"
   ]
  },
  {
   "cell_type": "markdown",
   "metadata": {},
   "source": [
    "Il modello sul set di train sembra essere perfetto.\n",
    "\n",
    "Guardiamo invece come si comporta sul set di test che contiene dei dati che il modello non ha mai visto!\n",
    "\n",
    "Il risultato è abbastanza scarso, quindi il modello sta soffreddo di Overfitting!"
   ]
  },
  {
   "cell_type": "code",
   "execution_count": 10,
   "metadata": {
    "colab": {
     "base_uri": "https://localhost:8080/"
    },
    "id": "FcbWuMkIEMKD",
    "outputId": "880e8ffb-1a73-4cd8-87c0-07527374292a"
   },
   "outputs": [
    {
     "name": "stdout",
     "output_type": "stream",
     "text": [
      "MSE: 17281.613\n",
      "R2: 0.053\n"
     ]
    }
   ],
   "source": [
    "evaluate_model(lr, (X_test, y_test))"
   ]
  },
  {
   "cell_type": "markdown",
   "metadata": {
    "id": "NOyNql3JE0cG"
   },
   "source": [
    "### Cross-validation"
   ]
  },
  {
   "cell_type": "code",
   "execution_count": 11,
   "metadata": {
    "id": "nvlQ6rCbEP13"
   },
   "outputs": [],
   "source": [
    "from sklearn.model_selection import  cross_validate, cross_val_score, KFold"
   ]
  },
  {
   "cell_type": "code",
   "execution_count": 14,
   "metadata": {
    "colab": {
     "base_uri": "https://localhost:8080/"
    },
    "id": "3GX2XwylIxBa",
    "outputId": "5d3126bc-6a01-4be5-b05f-049b7e154e1b"
   },
   "outputs": [
    {
     "data": {
      "text/plain": [
       "array([ 0.29720369,  0.32583144,  0.10896364,  0.08102096, -0.24933553])"
      ]
     },
     "execution_count": 14,
     "metadata": {},
     "output_type": "execute_result"
    }
   ],
   "source": [
    "lr = LinearRegression()\n",
    "scores = cross_val_score(lr, X, y, cv=5, scoring=\"r2\")\n",
    "scores"
   ]
  },
  {
   "cell_type": "code",
   "execution_count": 15,
   "metadata": {
    "colab": {
     "base_uri": "https://localhost:8080/"
    },
    "id": "bR8CAnlbIyLc",
    "outputId": "c8008dd4-4bb7-4a5e-f51a-fc395f89a5e4"
   },
   "outputs": [
    {
     "data": {
      "text/plain": [
       "0.11273683864804576"
      ]
     },
     "execution_count": 15,
     "metadata": {},
     "output_type": "execute_result"
    }
   ],
   "source": [
    "scores.mean() #facciamo la media dei risultati"
   ]
  },
  {
   "cell_type": "code",
   "execution_count": 16,
   "metadata": {
    "colab": {
     "base_uri": "https://localhost:8080/"
    },
    "id": "FCVrdbi0Fh-m",
    "outputId": "f9f12863-14a5-4d52-e595-7c3a14c28703"
   },
   "outputs": [
    {
     "data": {
      "text/plain": [
       "{'fit_time': array([0.21175194, 0.02388263, 0.00422931, 0.00409007, 0.47001791]),\n",
       " 'score_time': array([0.00178981, 0.00145316, 0.00121379, 0.00093699, 0.00138402]),\n",
       " 'test_score': array([ 0.29720369,  0.32583144,  0.10896364,  0.08102096, -0.24933553]),\n",
       " 'train_score': array([1., 1., 1., 1., 1.])}"
      ]
     },
     "execution_count": 16,
     "metadata": {},
     "output_type": "execute_result"
    }
   ],
   "source": [
    "lr = LinearRegression()\n",
    "cv_results = cross_validate(lr, X, y, cv=5, return_train_score=True)\n",
    "cv_results"
   ]
  },
  {
   "cell_type": "code",
   "execution_count": 17,
   "metadata": {
    "colab": {
     "base_uri": "https://localhost:8080/"
    },
    "id": "4fl_Qz1rGas3",
    "outputId": "9863f767-b9f7-4e00-cd7f-00ca727c2210"
   },
   "outputs": [
    {
     "data": {
      "text/plain": [
       "1.0"
      ]
     },
     "execution_count": 17,
     "metadata": {},
     "output_type": "execute_result"
    }
   ],
   "source": [
    "cv_results[\"train_score\"].mean()"
   ]
  },
  {
   "cell_type": "code",
   "execution_count": 18,
   "metadata": {
    "colab": {
     "base_uri": "https://localhost:8080/"
    },
    "id": "_36v0B6hF49X",
    "outputId": "234d5888-b93e-43da-a830-d3c2d22da7f8"
   },
   "outputs": [
    {
     "data": {
      "text/plain": [
       "0.11273683864804576"
      ]
     },
     "execution_count": 18,
     "metadata": {},
     "output_type": "execute_result"
    }
   ],
   "source": [
    "cv_results[\"test_score\"].mean()"
   ]
  },
  {
   "cell_type": "markdown",
   "metadata": {},
   "source": [
    "In questo caso non abbiamo eseguito la standardizzazione dei dati perchè avremmo dovuto passare i dati che passiamo per l'addestramento batch per batch, all'interno dei metodi cross_validate o cross_val_score.\n",
    "\n",
    "\n",
    "Questa cosa la possiamo fare grazie alla classe KFold che possiamo utilizzare per dividere il dataset in più batch.\n",
    "\n",
    "Variante KFold Cross validation "
   ]
  },
  {
   "cell_type": "code",
   "execution_count": 20,
   "metadata": {
    "colab": {
     "base_uri": "https://localhost:8080/"
    },
    "id": "yxwIPUAbIEOY",
    "outputId": "5550e666-74a9-4930-92a3-9d466e9f2415"
   },
   "outputs": [
    {
     "data": {
      "text/plain": [
       "5"
      ]
     },
     "execution_count": 20,
     "metadata": {},
     "output_type": "execute_result"
    }
   ],
   "source": [
    "kf = KFold(n_splits=5, shuffle=True, random_state=RANDOM_SEED)\n",
    "kf.get_n_splits(X)"
   ]
  },
  {
   "cell_type": "code",
   "execution_count": 21,
   "metadata": {
    "id": "0vRQfc95JNsN"
   },
   "outputs": [],
   "source": [
    "train_score = []\n",
    "test_score = []\n",
    "\n",
    "for train_index, test_index in kf.split(X): #batch per batch\n",
    "  \n",
    "  X_train, X_test = X[train_index], X[test_index]\n",
    "  y_train, y_test = y[train_index], y[test_index]\n",
    "\n",
    "  ss = StandardScaler()   #qui eseguiamo la standardizzazione\n",
    "  X_train = ss.fit_transform(X_train)\n",
    "  X_test = ss.transform(X_test)\n",
    "\n",
    "  lr = LinearRegression()\n",
    "  lr.fit(X_train, y_train)\n",
    "\n",
    "  r2_train = r2_score(y_train, lr.predict(X_train))\n",
    "  train_score.append(r2_train)\n",
    "\n",
    "  r2_test = r2_score(y_test, lr.predict(X_test))\n",
    "  test_score.append(r2_test)\n",
    "\n",
    "scores = {\n",
    "      \"train_score\":np.array(train_score),\n",
    "      \"test_score\":np.array(test_score)\n",
    "    }"
   ]
  },
  {
   "cell_type": "code",
   "execution_count": 22,
   "metadata": {
    "colab": {
     "base_uri": "https://localhost:8080/"
    },
    "id": "_YlorAmzKjjT",
    "outputId": "6b0080ea-eb68-4eb7-b22a-e4353622774f"
   },
   "outputs": [
    {
     "data": {
      "text/plain": [
       "{'train_score': array([1., 1., 1., 1., 1.]),\n",
       " 'test_score': array([ 0.21975703, -0.26167678,  0.38474004,  0.30060749,  0.44474871])}"
      ]
     },
     "execution_count": 22,
     "metadata": {},
     "output_type": "execute_result"
    }
   ],
   "source": [
    "scores"
   ]
  },
  {
   "cell_type": "code",
   "execution_count": 23,
   "metadata": {
    "colab": {
     "base_uri": "https://localhost:8080/"
    },
    "id": "Dn8rPES9Kmc5",
    "outputId": "8429444d-b35c-440d-f492-c6214e4db212"
   },
   "outputs": [
    {
     "data": {
      "text/plain": [
       "1.0"
      ]
     },
     "execution_count": 23,
     "metadata": {},
     "output_type": "execute_result"
    }
   ],
   "source": [
    "scores[\"train_score\"].mean()"
   ]
  },
  {
   "cell_type": "code",
   "execution_count": 24,
   "metadata": {
    "colab": {
     "base_uri": "https://localhost:8080/"
    },
    "id": "k8ark55MKsaW",
    "outputId": "f094a6fa-ab8c-49ba-fcc8-322237f2d4a4"
   },
   "outputs": [
    {
     "data": {
      "text/plain": [
       "0.21763530056896413"
      ]
     },
     "execution_count": 24,
     "metadata": {},
     "output_type": "execute_result"
    }
   ],
   "source": [
    "scores[\"test_score\"].mean()"
   ]
  },
  {
   "cell_type": "markdown",
   "metadata": {
    "id": "QQWfetwSKwA6"
   },
   "source": [
    "### LOOCV\n",
    "\n",
    "In questa variante eseguiamo l'addestramento su tutto il dataset ad eccezione di un unico esempio che teniamo per il test, per tutti gli esempi.\n",
    "Quindi addestriamo un numero di modello pari al numero di esempi presenti nel dataset.\n",
    "\n",
    "Ha senso quando abbiamo pochi esempi"
   ]
  },
  {
   "cell_type": "code",
   "execution_count": 25,
   "metadata": {
    "id": "EtGv0yy6KuB2"
   },
   "outputs": [],
   "source": [
    "from sklearn.model_selection import LeaveOneOut"
   ]
  },
  {
   "cell_type": "code",
   "execution_count": 26,
   "metadata": {
    "colab": {
     "base_uri": "https://localhost:8080/"
    },
    "id": "6ywrUSW3K9Wc",
    "outputId": "b0af65ef-3e75-4b53-bfed-e753b7259d84"
   },
   "outputs": [
    {
     "data": {
      "text/plain": [
       "100"
      ]
     },
     "execution_count": 26,
     "metadata": {},
     "output_type": "execute_result"
    }
   ],
   "source": [
    "loo = LeaveOneOut()\n",
    "loo.get_n_splits(X)"
   ]
  },
  {
   "cell_type": "code",
   "execution_count": 27,
   "metadata": {
    "id": "JhHfUGVBK32J"
   },
   "outputs": [],
   "source": [
    "train_score = []\n",
    "test_score = []\n",
    "\n",
    "for train_index, test_index in loo.split(X):\n",
    "  \n",
    "  X_train, X_test = X[train_index], X[test_index]\n",
    "  y_train, y_test = y[train_index], y[test_index]\n",
    "\n",
    "  ss = StandardScaler()\n",
    "  X_train = ss.fit_transform(X_train)\n",
    "  X_test = ss.transform(X_test)\n",
    "\n",
    "  lr = LinearRegression()\n",
    "  lr.fit(X_train, y_train)\n",
    "\n",
    "  mse_train = mean_squared_error(y_train, lr.predict(X_train))\n",
    "  train_score.append(mse_train)\n",
    "\n",
    "  r2_test = mean_squared_error(y_test, lr.predict(X_test))\n",
    "  test_score.append(r2_test)\n",
    "\n",
    "scores = {\n",
    "      \"train_score\":np.array(train_score),\n",
    "      \"test_score\":np.array(test_score)\n",
    "    }"
   ]
  },
  {
   "cell_type": "code",
   "execution_count": 28,
   "metadata": {
    "id": "CvNvwEBuLQo8"
   },
   "outputs": [
    {
     "data": {
      "text/plain": [
       "{'train_score': array([1.20143165e-25, 1.10821507e-25, 1.82659675e-25, 1.56663792e-25,\n",
       "        1.11098357e-25, 1.66400630e-25, 1.49129389e-25, 1.56708669e-25,\n",
       "        1.55182964e-25, 1.19408011e-25, 1.19049119e-25, 1.51542793e-25,\n",
       "        1.69616665e-25, 1.06106190e-25, 1.19868450e-25, 9.92940018e-26,\n",
       "        1.66416854e-25, 1.39608969e-25, 1.49146059e-25, 1.96243127e-25,\n",
       "        1.36443581e-25, 7.47413356e-26, 1.55299620e-25, 2.28877171e-25,\n",
       "        1.27271631e-25, 1.07449071e-25, 1.18542941e-25, 1.12103063e-25,\n",
       "        1.74928009e-25, 1.07918530e-25, 1.08408198e-25, 1.15374907e-25,\n",
       "        8.28854400e-26, 1.12054361e-25, 1.68249816e-25, 1.39463596e-25,\n",
       "        1.01300354e-25, 2.49941127e-25, 1.48293356e-25, 1.47529675e-25,\n",
       "        1.59293200e-25, 1.38419718e-25, 1.61566395e-25, 1.56717849e-25,\n",
       "        1.60129297e-25, 1.36462673e-25, 1.08272131e-25, 1.66977694e-25,\n",
       "        1.33174988e-25, 1.10264332e-25, 1.23896900e-25, 9.99149868e-26,\n",
       "        1.11991858e-25, 1.26460873e-25, 1.42265279e-25, 1.43674201e-25,\n",
       "        2.22709713e-25, 8.93213019e-26, 1.16587745e-25, 1.40876725e-25,\n",
       "        1.67292696e-25, 1.07291872e-25, 9.88440802e-26, 1.39266014e-25,\n",
       "        1.08328005e-25, 1.08205867e-25, 1.34053859e-25, 1.26495711e-25,\n",
       "        2.02413995e-25, 1.63751237e-25, 1.19754281e-25, 1.16334162e-25,\n",
       "        1.34796376e-25, 1.06582375e-25, 1.46818776e-25, 1.57638346e-25,\n",
       "        1.21482444e-25, 2.05054528e-25, 1.07539335e-25, 1.21380035e-25,\n",
       "        1.15128177e-25, 1.39454703e-25, 1.39973089e-25, 1.13019066e-25,\n",
       "        1.34459636e-25, 1.05905262e-25, 1.20897890e-25, 1.09682997e-25,\n",
       "        2.28795575e-25, 1.12833214e-25, 1.18059903e-25, 1.69816956e-25,\n",
       "        1.05287942e-25, 1.47781154e-25, 1.26480125e-25, 2.26689269e-25,\n",
       "        1.55423798e-25, 1.12391292e-25, 9.25506594e-26, 1.36083287e-25]),\n",
       " 'test_score': array([3.02515337e+02, 5.09228198e+02, 8.71891117e+03, 8.12277534e+02,\n",
       "        5.53092039e+02, 1.92023479e+03, 2.53128257e+03, 1.21273574e+04,\n",
       "        6.58960582e+02, 3.57298662e+02, 7.08813997e+02, 5.11774431e+03,\n",
       "        1.01684403e+03, 2.13224227e+02, 3.87469154e+03, 2.01671596e+03,\n",
       "        2.08280225e+04, 2.67343995e+03, 7.18738863e+03, 2.45737587e+02,\n",
       "        1.57647069e+03, 1.77757886e+04, 2.01838494e+02, 6.39173327e+03,\n",
       "        8.81330438e+02, 6.87836852e+03, 4.61140607e+03, 2.51203028e+04,\n",
       "        3.21071304e+03, 1.32397080e+03, 2.08449858e+03, 3.15743378e+02,\n",
       "        3.04239480e+02, 1.09322830e+03, 3.30908202e+02, 1.42628026e+03,\n",
       "        1.63745470e+04, 1.21564728e+03, 3.07983535e+04, 1.52665265e+03,\n",
       "        1.81540182e+02, 2.57172570e+02, 1.02985446e+04, 4.05216580e+03,\n",
       "        2.77742854e+03, 4.04876163e+04, 1.16898434e+04, 4.29995997e+02,\n",
       "        3.12936567e+04, 7.68603983e+02, 1.31182057e+04, 1.93822179e+04,\n",
       "        4.34830386e+03, 5.52078651e+03, 2.91372594e+03, 6.19516415e+02,\n",
       "        5.11295048e+04, 1.21964273e+04, 1.81420971e+04, 1.85829336e+04,\n",
       "        4.05736894e+03, 1.66996907e+04, 4.81060680e+03, 8.11073342e+02,\n",
       "        1.64389810e+03, 6.41084062e+00, 8.90370897e+02, 1.04721196e+03,\n",
       "        4.13629857e+03, 1.40488113e+03, 1.47959364e+04, 1.37558110e+04,\n",
       "        1.86470212e+02, 2.18902077e+04, 2.13491572e+04, 1.12649494e+03,\n",
       "        2.69984804e+03, 3.55453460e+02, 4.44285155e+02, 1.90444430e+03,\n",
       "        2.55860769e+04, 6.78897986e+03, 2.41116994e+03, 1.32941085e+04,\n",
       "        3.21216470e+03, 2.59746499e+02, 1.87608890e+04, 9.43270206e+03,\n",
       "        1.10952326e+04, 8.55689624e+01, 4.85830817e+03, 4.90739767e+02,\n",
       "        6.54244259e+03, 4.44608690e+03, 1.29316466e+03, 2.28164258e+03,\n",
       "        1.67854028e+03, 4.24153368e+01, 8.41724264e+02, 5.00149956e+03])}"
      ]
     },
     "execution_count": 28,
     "metadata": {},
     "output_type": "execute_result"
    }
   ],
   "source": [
    "scores"
   ]
  },
  {
   "cell_type": "code",
   "execution_count": 29,
   "metadata": {
    "id": "lNoxZ3riLSOG"
   },
   "outputs": [
    {
     "data": {
      "text/plain": [
       "1.371520001822531e-25"
      ]
     },
     "execution_count": 29,
     "metadata": {},
     "output_type": "execute_result"
    }
   ],
   "source": [
    "scores[\"train_score\"].mean()"
   ]
  },
  {
   "cell_type": "code",
   "execution_count": 30,
   "metadata": {
    "id": "M_S2-mB6LTsj"
   },
   "outputs": [
    {
     "data": {
      "text/plain": [
       "6764.252122395569"
      ]
     },
     "execution_count": 30,
     "metadata": {},
     "output_type": "execute_result"
    }
   ],
   "source": [
    "scores[\"test_score\"].mean()"
   ]
  },
  {
   "cell_type": "markdown",
   "metadata": {
    "id": "ZkQECgxiLsFw"
   },
   "source": [
    "### Learning Curve"
   ]
  },
  {
   "cell_type": "code",
   "execution_count": 31,
   "metadata": {
    "id": "xUIADO9hLV5Q"
   },
   "outputs": [],
   "source": [
    "from sklearn.model_selection import learning_curve\n",
    "import matplotlib.pyplot as plt\n",
    "import seaborn as sns\n",
    "\n",
    "train_sizes_abs, train_scores, test_scores = learning_curve(LinearRegression(), X, y, random_state=RANDOM_SEED)"
   ]
  },
  {
   "cell_type": "code",
   "execution_count": 32,
   "metadata": {
    "colab": {
     "base_uri": "https://localhost:8080/",
     "height": 265
    },
    "id": "PHwLM64GMCJ8",
    "outputId": "71c6a2c4-a3bf-44ab-8a8c-871ee544a520"
   },
   "outputs": [
    {
     "data": {
      "image/png": "[encoded data removed]",
      "text/plain": [
       "<Figure size 640x480 with 1 Axes>"
      ]
     },
     "metadata": {},
     "output_type": "display_data"
    }
   ],
   "source": [
    "plt.plot(train_sizes_abs, train_scores.mean(axis=1))\n",
    "plt.plot(train_sizes_abs, test_scores.mean(axis=1))\n",
    "plt.show()"
   ]
  },
  {
   "cell_type": "code",
   "execution_count": 159,
   "metadata": {
    "id": "5Ht1h7rMOGVt"
   },
   "outputs": [],
   "source": []
  }
 ],
 "metadata": {
  "colab": {
   "authorship_tag": "ABX9TyO411A9aKrRVS89/F5mNFs3",
   "collapsed_sections": [],
   "include_colab_link": true,
   "name": "overfitting.ipynb",
   "provenance": []
  },
  "kernelspec": {
   "display_name": "Python 3 (ipykernel)",
   "language": "python",
   "name": "python3"
  },
  "language_info": {
   "codemirror_mode": {
    "name": "ipython",
    "version": 3
   },
   "file_extension": ".py",
   "mimetype": "text/x-python",
   "name": "python",
   "nbconvert_exporter": "python",
   "pygments_lexer": "ipython3",
   "version": "3.11.5"
  }
 },
 "nbformat": 4,
 "nbformat_minor": 1
}
