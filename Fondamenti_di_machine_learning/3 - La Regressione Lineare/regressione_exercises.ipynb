{
 "cells": [
  {
   "cell_type": "markdown",
   "id": "fc73dbdb",
   "metadata": {
    "id": "fc73dbdb"
   },
   "source": [
    "# Regressione: Esercitazione\n",
    "\n",
    "Per questa esercitazione dovrai creare il tuo primo modello di regressione lineare. Per farlo utilizzerai il Boston Housing Dataset, che hai già visto nella sezione dedicata al preprocessing dei dati. Puoi scaricare il dataset già pulito [da qui](https://raw.githubusercontent.com/ProfAI/machine-learning-fondamenti/main/datasets/housing_dirty.csv).\n",
    "\n",
    "Il dataset contiene le seguenti informazioni\n",
    "\n",
    "1. **CRIM** Tasso di criminalità per capita\n",
    "2. **ZN** Percentuale di terreni residenziali suddivisi in zone per lotti superiori a 25.000 sq.ft.\n",
    "3. **INDUS** Percentuale di ettari di attività non al dettaglio per città.\n",
    "4. **CHAS** Variabile dummy che indica la prossimità al fiume Charles.\n",
    "5. **NOX** Concentrazione di ossido d'azoto (parti per 10 milioni).\n",
    "6. **RM** Numero medio di stanze per abitazione\n",
    "7. **AGE** Percentuale di abitazione occupate costruite dopo il 1940\n",
    "8. **DIS** Media pesata delle distanze da 5 centri lavorativi di Boston.\n",
    "9. **RAD** Indice di accessibilità ad autostrade\n",
    "10. **TAX** Aliquota dell'imposta sulla proprietà a valore pieno in 10.000 USD.\n",
    "11. **PRATIO** Rapporto studente-insegnante per città.\n",
    "12. **BLACK** 1000(Bk - 0.63)^2 dove Bk è la percentuale di abitanti di colore per città\n",
    "13. **LSTAT** Percentuale della popolazione povera\n",
    "14. **PRICE** Mediana del valore di abitazioni occupate in 1.000 USD.\n",
    "\n",
    "Il target è la colonna PRICE, cioè vogliamo prevedere il valore delle abitazioni.\n",
    "\n",
    "Nello specifico, devi risolvere i seguenti punti:\n",
    "1. Crea la matrice di correlazione. \n",
    "2. Addestra e valuta un modello di regressione lineare semplice utilizzano la variabile che sembra maggiormente correlata al target.\n",
    "3. Addestra e valuta un modello di regressione lineare multipla utilizzando le due variabili che sembrano maggiormente correlate al target.\n",
    "4. Aggiungi una terza variabile, quindi crea diversi modelli di regressione polinomiale, senza superare il grado 5, prova sia con che senza bias.\n",
    "5. Addestra e valuta un modello di regressione lineare utilizzando tutte le variabili del dataset.\n",
    "6. Esegui la normalizzazione dei dati e riaddestra il modello, le performance sono migliorate?\n",
    "7. Esegui la standardizzazione dei dati e riaddestra il modello, le performance sono migliorate?\n",
    "8. Utilizza il modello con tutte le features per prevedere il prezzo delle abitazioni che trovi in [questo file CSV]().\n",
    "9. Salva il risultato in un file excel chiamato \"housing_estimate.xlsx\", deve contenere due colonne: OWNER=il proprietario dell'abitazione, ESTIMATED PRICE=il valore stimato dal nostro modello.\n",
    "\n",
    "\n",
    "**Nota**\n",
    "Se mastichi già l'argomento e il termine \"overfitting\" non ti è nuovo, non preoccupartene per adesso, ci arriveremo nella prossima sezione."
   ]
  },
  {
   "cell_type": "markdown",
   "id": "c2fcb16a",
   "metadata": {
    "id": "c2fcb16a"
   },
   "source": [
    "### Soluzione"
   ]
  },
  {
   "cell_type": "code",
   "execution_count": 1,
   "id": "45e62148",
   "metadata": {
    "id": "45e62148"
   },
   "outputs": [],
   "source": [
    "import numpy as np\n",
    "import pandas as pd"
   ]
  },
  {
   "cell_type": "code",
   "execution_count": 2,
   "id": "a5b4ba2b",
   "metadata": {
    "colab": {
     "base_uri": "https://localhost:8080/",
     "height": 206
    },
    "id": "a5b4ba2b",
    "outputId": "6f467ca8-355e-42b3-c7f5-17478a1e909f"
   },
   "outputs": [
    {
     "data": {
      "text/html": [
       "<div>\n",
       "<style scoped>\n",
       "    .dataframe tbody tr th:only-of-type {\n",
       "        vertical-align: middle;\n",
       "    }\n",
       "\n",
       "    .dataframe tbody tr th {\n",
       "        vertical-align: top;\n",
       "    }\n",
       "\n",
       "    .dataframe thead th {\n",
       "        text-align: right;\n",
       "    }\n",
       "</style>\n",
       "<table border=\"1\" class=\"dataframe\">\n",
       "  <thead>\n",
       "    <tr style=\"text-align: right;\">\n",
       "      <th></th>\n",
       "      <th>CRIM</th>\n",
       "      <th>ZN</th>\n",
       "      <th>INDUS</th>\n",
       "      <th>CHAS</th>\n",
       "      <th>NOX</th>\n",
       "      <th>RM</th>\n",
       "      <th>AGE</th>\n",
       "      <th>DIS</th>\n",
       "      <th>RAD</th>\n",
       "      <th>TAX</th>\n",
       "      <th>PTRATIO</th>\n",
       "      <th>B</th>\n",
       "      <th>LSTAT</th>\n",
       "      <th>PRICE</th>\n",
       "    </tr>\n",
       "  </thead>\n",
       "  <tbody>\n",
       "    <tr>\n",
       "      <th>0</th>\n",
       "      <td>0.00632</td>\n",
       "      <td>18.0</td>\n",
       "      <td>2.31</td>\n",
       "      <td>0.0</td>\n",
       "      <td>0.538</td>\n",
       "      <td>6.575</td>\n",
       "      <td>65.2</td>\n",
       "      <td>4.0900</td>\n",
       "      <td>1.0</td>\n",
       "      <td>296.0</td>\n",
       "      <td>15.3</td>\n",
       "      <td>396.90</td>\n",
       "      <td>4.98</td>\n",
       "      <td>24.0</td>\n",
       "    </tr>\n",
       "    <tr>\n",
       "      <th>1</th>\n",
       "      <td>0.02731</td>\n",
       "      <td>0.0</td>\n",
       "      <td>7.07</td>\n",
       "      <td>0.0</td>\n",
       "      <td>0.469</td>\n",
       "      <td>6.421</td>\n",
       "      <td>78.9</td>\n",
       "      <td>4.9671</td>\n",
       "      <td>2.0</td>\n",
       "      <td>242.0</td>\n",
       "      <td>17.8</td>\n",
       "      <td>396.90</td>\n",
       "      <td>9.14</td>\n",
       "      <td>21.6</td>\n",
       "    </tr>\n",
       "    <tr>\n",
       "      <th>2</th>\n",
       "      <td>0.02729</td>\n",
       "      <td>0.0</td>\n",
       "      <td>7.07</td>\n",
       "      <td>0.0</td>\n",
       "      <td>0.469</td>\n",
       "      <td>7.185</td>\n",
       "      <td>61.1</td>\n",
       "      <td>4.9671</td>\n",
       "      <td>2.0</td>\n",
       "      <td>242.0</td>\n",
       "      <td>17.8</td>\n",
       "      <td>392.83</td>\n",
       "      <td>4.03</td>\n",
       "      <td>34.7</td>\n",
       "    </tr>\n",
       "    <tr>\n",
       "      <th>3</th>\n",
       "      <td>0.03237</td>\n",
       "      <td>0.0</td>\n",
       "      <td>2.18</td>\n",
       "      <td>0.0</td>\n",
       "      <td>0.458</td>\n",
       "      <td>6.998</td>\n",
       "      <td>45.8</td>\n",
       "      <td>6.0622</td>\n",
       "      <td>3.0</td>\n",
       "      <td>222.0</td>\n",
       "      <td>18.7</td>\n",
       "      <td>394.63</td>\n",
       "      <td>2.94</td>\n",
       "      <td>33.4</td>\n",
       "    </tr>\n",
       "    <tr>\n",
       "      <th>4</th>\n",
       "      <td>0.06905</td>\n",
       "      <td>0.0</td>\n",
       "      <td>2.18</td>\n",
       "      <td>0.0</td>\n",
       "      <td>0.458</td>\n",
       "      <td>7.147</td>\n",
       "      <td>54.2</td>\n",
       "      <td>6.0622</td>\n",
       "      <td>3.0</td>\n",
       "      <td>222.0</td>\n",
       "      <td>18.7</td>\n",
       "      <td>396.90</td>\n",
       "      <td>5.33</td>\n",
       "      <td>36.2</td>\n",
       "    </tr>\n",
       "  </tbody>\n",
       "</table>\n",
       "</div>"
      ],
      "text/plain": [
       "      CRIM    ZN  INDUS  CHAS    NOX     RM   AGE     DIS  RAD    TAX  \\\n",
       "0  0.00632  18.0   2.31   0.0  0.538  6.575  65.2  4.0900  1.0  296.0   \n",
       "1  0.02731   0.0   7.07   0.0  0.469  6.421  78.9  4.9671  2.0  242.0   \n",
       "2  0.02729   0.0   7.07   0.0  0.469  7.185  61.1  4.9671  2.0  242.0   \n",
       "3  0.03237   0.0   2.18   0.0  0.458  6.998  45.8  6.0622  3.0  222.0   \n",
       "4  0.06905   0.0   2.18   0.0  0.458  7.147  54.2  6.0622  3.0  222.0   \n",
       "\n",
       "   PTRATIO       B  LSTAT  PRICE  \n",
       "0     15.3  396.90   4.98   24.0  \n",
       "1     17.8  396.90   9.14   21.6  \n",
       "2     17.8  392.83   4.03   34.7  \n",
       "3     18.7  394.63   2.94   33.4  \n",
       "4     18.7  396.90   5.33   36.2  "
      ]
     },
     "execution_count": 2,
     "metadata": {},
     "output_type": "execute_result"
    }
   ],
   "source": [
    "BASE_URL = \"https://raw.githubusercontent.com/ProfAI/machine-learning-fondamenti/main/datasets/\"\n",
    "df = pd.read_csv(BASE_URL+\"housing.csv\", index_col=0)\n",
    "df.head()"
   ]
  },
  {
   "cell_type": "markdown",
   "id": "cfdbca4e",
   "metadata": {
    "id": "cfdbca4e"
   },
   "source": [
    "### 1. Crea la matrice di correlazione. \n"
   ]
  },
  {
   "cell_type": "code",
   "execution_count": 3,
   "id": "0e3e35cc",
   "metadata": {
    "colab": {
     "base_uri": "https://localhost:8080/",
     "height": 658
    },
    "id": "0e3e35cc",
    "outputId": "ee877577-8241-48f9-a1ac-9e1eafff462e"
   },
   "outputs": [
    {
     "data": {
      "image/png": "[encoded data removed]",
      "text/plain": [
       "<Figure size 1120x800 with 2 Axes>"
      ]
     },
     "metadata": {},
     "output_type": "display_data"
    }
   ],
   "source": [
    "import matplotlib.pyplot as plt\n",
    "import seaborn as sns\n",
    "\n",
    "plt.figure(figsize=(14, 10), dpi=80)\n",
    "\n",
    "hm = sns.heatmap(df.corr(),\n",
    "                 cbar=True,\n",
    "                 square=True,\n",
    "                 yticklabels=df.columns,\n",
    "                 xticklabels=df.columns,\n",
    "                 annot=True,                  #Questo ci mostra i valori degli indici\n",
    "                 annot_kws={'size':12})       #Impostiamo la dimensione dell'annotazione a 12 per farla entrare dentro il quadrato\n",
    "\n",
    "plt.show()"
   ]
  },
  {
   "cell_type": "markdown",
   "id": "720761f4",
   "metadata": {
    "id": "720761f4"
   },
   "source": [
    "### 2. Addestra e valuta un modello di regressione lineare semplice utilizzano la variabile che sembra maggiormente correlata al target.\n",
    "esempio\n",
    "In questo caso sono LSTAT che è negativamente correlata, perchè nelle zone dove c'è più popolazione povera le abitazioni valgono meno.\n",
    "\n",
    "Poi abbiamo RM positiva, perchè più stanze vuol dire maggior valore.\n"
   ]
  },
  {
   "cell_type": "code",
   "execution_count": 4,
   "id": "ff28395a",
   "metadata": {
    "id": "ff28395a"
   },
   "outputs": [],
   "source": [
    "from sklearn.metrics import mean_squared_error, r2_score\n",
    "\n",
    "def evaluate(model, data):\n",
    "    x, y = data\n",
    "    y_pred = model.predict(x)\n",
    "    print(f\"RMSE = {np.sqrt(mean_squared_error(y, y_pred))}\")\n",
    "    print(f\"R2 = {r2_score(y, y_pred)}\")"
   ]
  },
  {
   "cell_type": "code",
   "execution_count": 5,
   "id": "b2960fa6",
   "metadata": {
    "id": "b2960fa6"
   },
   "outputs": [],
   "source": [
    "from sklearn.linear_model import LinearRegression"
   ]
  },
  {
   "cell_type": "code",
   "execution_count": 6,
   "id": "ca247c9f",
   "metadata": {
    "id": "ca247c9f"
   },
   "outputs": [],
   "source": [
    "x = df[\"LSTAT\"].values  #variabile maggiormanete correlata al target PRICE\n",
    "y = df[\"PRICE\"].values"
   ]
  },
  {
   "cell_type": "code",
   "execution_count": 7,
   "id": "837678ad",
   "metadata": {
    "colab": {
     "base_uri": "https://localhost:8080/"
    },
    "id": "837678ad",
    "outputId": "70217347-28c9-4abe-d99d-97461a1eaf81"
   },
   "outputs": [
    {
     "data": {
      "text/plain": [
       "(506,)"
      ]
     },
     "execution_count": 7,
     "metadata": {},
     "output_type": "execute_result"
    }
   ],
   "source": [
    "x.shape "
   ]
  },
  {
   "cell_type": "code",
   "execution_count": 8,
   "id": "86bd3e73",
   "metadata": {
    "colab": {
     "base_uri": "https://localhost:8080/"
    },
    "id": "86bd3e73",
    "outputId": "99f2ce23-b80f-4def-9e9b-0477544639bd"
   },
   "outputs": [
    {
     "data": {
      "text/plain": [
       "(506, 1)"
      ]
     },
     "execution_count": 8,
     "metadata": {},
     "output_type": "execute_result"
    }
   ],
   "source": [
    "x = x.reshape(-1, 1)#x non puo essere un array monodimensionale\n",
    "x.shape"
   ]
  },
  {
   "cell_type": "code",
   "execution_count": 9,
   "id": "d39e099e",
   "metadata": {
    "colab": {
     "base_uri": "https://localhost:8080/"
    },
    "id": "d39e099e",
    "outputId": "acbf44f6-79d4-4669-ed82-42ff40f7a4dc"
   },
   "outputs": [
    {
     "data": {
      "text/html": [
       "<style>#sk-container-id-1 {color: black;}#sk-container-id-1 pre{padding: 0;}#sk-container-id-1 div.sk-toggleable {background-color: white;}#sk-container-id-1 label.sk-toggleable__label {cursor: pointer;display: block;width: 100%;margin-bottom: 0;padding: 0.3em;box-sizing: border-box;text-align: center;}#sk-container-id-1 label.sk-toggleable__label-arrow:before {content: \"▸\";float: left;margin-right: 0.25em;color: #696969;}#sk-container-id-1 label.sk-toggleable__label-arrow:hover:before {color: black;}#sk-container-id-1 div.sk-estimator:hover label.sk-toggleable__label-arrow:before {color: black;}#sk-container-id-1 div.sk-toggleable__content {max-height: 0;max-width: 0;overflow: hidden;text-align: left;background-color: #f0f8ff;}#sk-container-id-1 div.sk-toggleable__content pre {margin: 0.2em;color: black;border-radius: 0.25em;background-color: #f0f8ff;}#sk-container-id-1 input.sk-toggleable__control:checked~div.sk-toggleable__content {max-height: 200px;max-width: 100%;overflow: auto;}#sk-container-id-1 input.sk-toggleable__control:checked~label.sk-toggleable__label-arrow:before {content: \"▾\";}#sk-container-id-1 div.sk-estimator input.sk-toggleable__control:checked~label.sk-toggleable__label {background-color: #d4ebff;}#sk-container-id-1 div.sk-label input.sk-toggleable__control:checked~label.sk-toggleable__label {background-color: #d4ebff;}#sk-container-id-1 input.sk-hidden--visually {border: 0;clip: rect(1px 1px 1px 1px);clip: rect(1px, 1px, 1px, 1px);height: 1px;margin: -1px;overflow: hidden;padding: 0;position: absolute;width: 1px;}#sk-container-id-1 div.sk-estimator {font-family: monospace;background-color: #f0f8ff;border: 1px dotted black;border-radius: 0.25em;box-sizing: border-box;margin-bottom: 0.5em;}#sk-container-id-1 div.sk-estimator:hover {background-color: #d4ebff;}#sk-container-id-1 div.sk-parallel-item::after {content: \"\";width: 100%;border-bottom: 1px solid gray;flex-grow: 1;}#sk-container-id-1 div.sk-label:hover label.sk-toggleable__label {background-color: #d4ebff;}#sk-container-id-1 div.sk-serial::before {content: \"\";position: absolute;border-left: 1px solid gray;box-sizing: border-box;top: 0;bottom: 0;left: 50%;z-index: 0;}#sk-container-id-1 div.sk-serial {display: flex;flex-direction: column;align-items: center;background-color: white;padding-right: 0.2em;padding-left: 0.2em;position: relative;}#sk-container-id-1 div.sk-item {position: relative;z-index: 1;}#sk-container-id-1 div.sk-parallel {display: flex;align-items: stretch;justify-content: center;background-color: white;position: relative;}#sk-container-id-1 div.sk-item::before, #sk-container-id-1 div.sk-parallel-item::before {content: \"\";position: absolute;border-left: 1px solid gray;box-sizing: border-box;top: 0;bottom: 0;left: 50%;z-index: -1;}#sk-container-id-1 div.sk-parallel-item {display: flex;flex-direction: column;z-index: 1;position: relative;background-color: white;}#sk-container-id-1 div.sk-parallel-item:first-child::after {align-self: flex-end;width: 50%;}#sk-container-id-1 div.sk-parallel-item:last-child::after {align-self: flex-start;width: 50%;}#sk-container-id-1 div.sk-parallel-item:only-child::after {width: 0;}#sk-container-id-1 div.sk-dashed-wrapped {border: 1px dashed gray;margin: 0 0.4em 0.5em 0.4em;box-sizing: border-box;padding-bottom: 0.4em;background-color: white;}#sk-container-id-1 div.sk-label label {font-family: monospace;font-weight: bold;display: inline-block;line-height: 1.2em;}#sk-container-id-1 div.sk-label-container {text-align: center;}#sk-container-id-1 div.sk-container {/* jupyter's `normalize.less` sets `[hidden] { display: none; }` but bootstrap.min.css set `[hidden] { display: none !important; }` so we also need the `!important` here to be able to override the default hidden behavior on the sphinx rendered scikit-learn.org. See: https://github.com/scikit-learn/scikit-learn/issues/21755 */display: inline-block !important;position: relative;}#sk-container-id-1 div.sk-text-repr-fallback {display: none;}</style><div id=\"sk-container-id-1\" class=\"sk-top-container\"><div class=\"sk-text-repr-fallback\"><pre>LinearRegression()</pre><b>In a Jupyter environment, please rerun this cell to show the HTML representation or trust the notebook. <br />On GitHub, the HTML representation is unable to render, please try loading this page with nbviewer.org.</b></div><div class=\"sk-container\" hidden><div class=\"sk-item\"><div class=\"sk-estimator sk-toggleable\"><input class=\"sk-toggleable__control sk-hidden--visually\" id=\"sk-estimator-id-1\" type=\"checkbox\" checked><label for=\"sk-estimator-id-1\" class=\"sk-toggleable__label sk-toggleable__label-arrow\">LinearRegression</label><div class=\"sk-toggleable__content\"><pre>LinearRegression()</pre></div></div></div></div></div>"
      ],
      "text/plain": [
       "LinearRegression()"
      ]
     },
     "execution_count": 9,
     "metadata": {},
     "output_type": "execute_result"
    }
   ],
   "source": [
    "lr = LinearRegression()\n",
    "lr.fit(x,y)"
   ]
  },
  {
   "cell_type": "code",
   "execution_count": 10,
   "id": "QtZw_MKMSgG_",
   "metadata": {
    "colab": {
     "base_uri": "https://localhost:8080/"
    },
    "id": "QtZw_MKMSgG_",
    "outputId": "1714a6ef-bfc0-42fa-c36d-35b8f1490653"
   },
   "outputs": [
    {
     "name": "stdout",
     "output_type": "stream",
     "text": [
      "RMSE = 6.20346413142642\n",
      "R2 = 0.5441462975864797\n"
     ]
    }
   ],
   "source": [
    "evaluate(lr, (x,y))"
   ]
  },
  {
   "cell_type": "code",
   "execution_count": 11,
   "id": "1b0b9fb4",
   "metadata": {
    "colab": {
     "base_uri": "https://localhost:8080/"
    },
    "id": "1b0b9fb4",
    "outputId": "83d21594-3590-423b-9808-e53297d475fb"
   },
   "outputs": [
    {
     "name": "stdout",
     "output_type": "stream",
     "text": [
      "RMSE = 6.20346413142642\n",
      "R2 = 0.5441462975864797\n"
     ]
    }
   ],
   "source": [
    "evaluate(lr, (x,y))"
   ]
  },
  {
   "cell_type": "markdown",
   "id": "0975d412",
   "metadata": {
    "id": "0975d412"
   },
   "source": [
    "### 3. Addestra e valuta un modello di regressione lineare multipla utilizzando le due variabili che sembrano maggiormente correlate al target."
   ]
  },
  {
   "cell_type": "code",
   "execution_count": 12,
   "id": "e4c53924",
   "metadata": {
    "colab": {
     "base_uri": "https://localhost:8080/"
    },
    "id": "e4c53924",
    "outputId": "38c7e9cf-fafc-4c24-c1ed-774c86039a80"
   },
   "outputs": [
    {
     "data": {
      "text/plain": [
       "(506, 2)"
      ]
     },
     "execution_count": 12,
     "metadata": {},
     "output_type": "execute_result"
    }
   ],
   "source": [
    "X = df[[\"LSTAT\",\"RM\"]].values\n",
    "y = df[\"PRICE\"].values\n",
    "X.shape"
   ]
  },
  {
   "cell_type": "code",
   "execution_count": 13,
   "id": "8c4c7d7c",
   "metadata": {
    "colab": {
     "base_uri": "https://localhost:8080/"
    },
    "id": "8c4c7d7c",
    "outputId": "8fde6d9e-43ea-4bac-804b-a1786dfa97e6"
   },
   "outputs": [
    {
     "name": "stdout",
     "output_type": "stream",
     "text": [
      "RMSE = 5.523809263298243\n",
      "R2 = 0.6385616062603403\n"
     ]
    }
   ],
   "source": [
    "lr = LinearRegression()\n",
    "lr.fit(X, y)\n",
    "evaluate(lr, (X, y))"
   ]
  },
  {
   "cell_type": "markdown",
   "id": "ea85af68",
   "metadata": {
    "id": "ea85af68"
   },
   "source": [
    "### 4. Aggiungi una terza variabile, quindi crea diversi modelli di regressione polinomiale, senza superare il grado 5."
   ]
  },
  {
   "cell_type": "code",
   "execution_count": 14,
   "id": "a74c4594",
   "metadata": {
    "id": "a74c4594"
   },
   "outputs": [],
   "source": [
    "from sklearn.preprocessing import PolynomialFeatures"
   ]
  },
  {
   "cell_type": "code",
   "execution_count": 15,
   "id": "28fa9b83",
   "metadata": {
    "colab": {
     "base_uri": "https://localhost:8080/"
    },
    "id": "28fa9b83",
    "outputId": "f09003a9-e3a1-49a0-d736-c44f67bd1803"
   },
   "outputs": [
    {
     "data": {
      "text/plain": [
       "(506, 3)"
      ]
     },
     "execution_count": 15,
     "metadata": {},
     "output_type": "execute_result"
    }
   ],
   "source": [
    "X = df[[\"LSTAT\",\"RM\", \"PTRATIO\"]].values\n",
    "y = df[\"PRICE\"].values\n",
    "X.shape"
   ]
  },
  {
   "cell_type": "code",
   "execution_count": 16,
   "id": "788c21cd",
   "metadata": {
    "colab": {
     "base_uri": "https://localhost:8080/"
    },
    "id": "788c21cd",
    "outputId": "bc0d053d-d8d1-46cc-f566-a098ad6db72e"
   },
   "outputs": [
    {
     "name": "stdout",
     "output_type": "stream",
     "text": [
      "Polinomio di grado 2 con bias\n",
      "RMSE = 4.144169801696809\n",
      "R2 = 0.7965620274818104\n",
      "----------\n",
      "Polinomio di grado 3 con bias\n",
      "RMSE = 3.9939405131856485\n",
      "R2 = 0.8110442467458931\n",
      "----------\n",
      "Polinomio di grado 4 con bias\n",
      "RMSE = 4.975183384228228\n",
      "R2 = 0.706792468075623\n",
      "----------\n",
      "Polinomio di grado 5 con bias\n",
      "RMSE = 3.4951481609102975\n",
      "R2 = 0.855293474368469\n",
      "----------\n"
     ]
    }
   ],
   "source": [
    "for i in range(2, 6):\n",
    "    print(f\"Polinomio di grado {i} con bias\")\n",
    "    poly = PolynomialFeatures(i)\n",
    "    X_poly = poly.fit_transform(X)\n",
    "    lr = LinearRegression()\n",
    "    lr.fit(X_poly, y)\n",
    "    evaluate(lr, (X_poly, y))\n",
    "    print(\"----------\")"
   ]
  },
  {
   "cell_type": "code",
   "execution_count": 17,
   "id": "4e9d115d",
   "metadata": {
    "colab": {
     "base_uri": "https://localhost:8080/"
    },
    "id": "4e9d115d",
    "outputId": "5f0e64a2-8c64-46fa-c6b2-585fd72f5f50"
   },
   "outputs": [
    {
     "name": "stdout",
     "output_type": "stream",
     "text": [
      "Polinomio di grado 2 senza bias\n",
      "RMSE = 4.144169801696807\n",
      "R2 = 0.7965620274818106\n",
      "----------\n",
      "Polinomio di grado 3 senza bias\n",
      "RMSE = 3.9939405131856343\n",
      "R2 = 0.8110442467458945\n",
      "----------\n",
      "Polinomio di grado 4 senza bias\n",
      "RMSE = 3.7306747288207975\n",
      "R2 = 0.8351337703491866\n",
      "----------\n",
      "Polinomio di grado 5 senza bias\n",
      "RMSE = 3.4951481612568776\n",
      "R2 = 0.8552934743397708\n",
      "----------\n"
     ]
    }
   ],
   "source": [
    "for i in range(2, 6):\n",
    "    print(f\"Polinomio di grado {i} senza bias\")\n",
    "    poly = PolynomialFeatures(i, include_bias=False)\n",
    "    X_poly = poly.fit_transform(X)\n",
    "    lr = LinearRegression()\n",
    "    lr.fit(X_poly, y)\n",
    "    evaluate(lr, (X_poly, y))\n",
    "    print(\"----------\")"
   ]
  },
  {
   "cell_type": "markdown",
   "id": "cda32492",
   "metadata": {
    "id": "cda32492"
   },
   "source": [
    "### 5. Addestra e valuta un modello di regressione lineare utilizzando tutte le variabili del dataset."
   ]
  },
  {
   "cell_type": "code",
   "execution_count": 18,
   "id": "b619d3e5",
   "metadata": {
    "colab": {
     "base_uri": "https://localhost:8080/"
    },
    "id": "b619d3e5",
    "outputId": "8f397905-836a-4e81-a38b-82eae12021b7"
   },
   "outputs": [
    {
     "data": {
      "text/plain": [
       "(506, 13)"
      ]
     },
     "execution_count": 18,
     "metadata": {},
     "output_type": "execute_result"
    }
   ],
   "source": [
    "X = df.drop(\"PRICE\", axis=1).values  #non considero il target\n",
    "y = df[\"PRICE\"].values\n",
    "X.shape"
   ]
  },
  {
   "cell_type": "code",
   "execution_count": 19,
   "id": "91b8201c",
   "metadata": {
    "colab": {
     "base_uri": "https://localhost:8080/"
    },
    "id": "91b8201c",
    "outputId": "3ebf1fff-5864-4527-85a0-eb7048f80663"
   },
   "outputs": [
    {
     "name": "stdout",
     "output_type": "stream",
     "text": [
      "RMSE = 4.679506300635516\n",
      "R2 = 0.7406077428649428\n"
     ]
    }
   ],
   "source": [
    "lr = LinearRegression()\n",
    "lr.fit(X, y)\n",
    "evaluate(lr, (X, y))"
   ]
  },
  {
   "cell_type": "markdown",
   "id": "7U8E4n1FTjv7",
   "metadata": {
    "id": "7U8E4n1FTjv7"
   },
   "source": [
    "### 6. Esegui la normalizzazione dei dati e riaddestra il modello, le performance sono migliorate?\n"
   ]
  },
  {
   "cell_type": "code",
   "execution_count": 20,
   "id": "vZgh1zCAUMns",
   "metadata": {
    "colab": {
     "base_uri": "https://localhost:8080/"
    },
    "id": "vZgh1zCAUMns",
    "outputId": "1444b543-f869-467b-ff1d-b8abfd1a66f8"
   },
   "outputs": [
    {
     "name": "stdout",
     "output_type": "stream",
     "text": [
      "0.0 1.0\n"
     ]
    }
   ],
   "source": [
    "from sklearn.preprocessing import MinMaxScaler\n",
    "\n",
    "mms = MinMaxScaler()\n",
    "X_norm = mms.fit_transform(X)\n",
    "print(X_norm.min(), X_norm.max())"
   ]
  },
  {
   "cell_type": "code",
   "execution_count": 21,
   "id": "VhJMl2vHUZpf",
   "metadata": {
    "colab": {
     "base_uri": "https://localhost:8080/"
    },
    "id": "VhJMl2vHUZpf",
    "outputId": "22fb6e1f-eb84-4c27-bd14-8c552750db82"
   },
   "outputs": [
    {
     "name": "stdout",
     "output_type": "stream",
     "text": [
      "RMSE = 4.679506300635516\n",
      "R2 = 0.7406077428649429\n"
     ]
    }
   ],
   "source": [
    "lr = LinearRegression()\n",
    "lr.fit(X_norm, y)\n",
    "evaluate(lr, (X_norm, y))"
   ]
  },
  {
   "cell_type": "markdown",
   "id": "N4JvxVFvTsuo",
   "metadata": {
    "id": "N4JvxVFvTsuo"
   },
   "source": [
    "### 7. Esegui la standardizzazione dei dati e riaddestra il modello, le performance sono migliorate?\n",
    "\n",
    "Le performance non migliorano perchè se calcoliamo i coefficienti, pesi e bias ulizzando il metodo dei minimi quadrati (come la la Linear Regression) la standardizzazione e la normalizzazione non hanno effetto.\n",
    "Hanno effetto quando utilizziamo un'ottimizzazione iterativa.\n"
   ]
  },
  {
   "cell_type": "code",
   "execution_count": 22,
   "id": "qEmWlwb2Thbe",
   "metadata": {
    "colab": {
     "base_uri": "https://localhost:8080/"
    },
    "id": "qEmWlwb2Thbe",
    "outputId": "5d50fa3d-e1a2-4ca1-d987-b6efb0906b72"
   },
   "outputs": [
    {
     "name": "stdout",
     "output_type": "stream",
     "text": [
      "-1.5716626338263086e-16 1.0\n"
     ]
    }
   ],
   "source": [
    "from sklearn.preprocessing import StandardScaler\n",
    "\n",
    "ss = StandardScaler()\n",
    "X_std = ss.fit_transform(X)\n",
    "print(X_std.mean(), X_std.std())"
   ]
  },
  {
   "cell_type": "code",
   "execution_count": 23,
   "id": "ynuwvyHbTr9L",
   "metadata": {
    "colab": {
     "base_uri": "https://localhost:8080/"
    },
    "id": "ynuwvyHbTr9L",
    "outputId": "546978dd-f769-4993-884d-0eeb936ba246"
   },
   "outputs": [
    {
     "name": "stdout",
     "output_type": "stream",
     "text": [
      "RMSE = 4.679506300635516\n",
      "R2 = 0.7406077428649428\n"
     ]
    }
   ],
   "source": [
    "lr = LinearRegression()\n",
    "lr.fit(X_std, y)\n",
    "evaluate(lr, (X_std, y))"
   ]
  },
  {
   "cell_type": "markdown",
   "id": "de179e52",
   "metadata": {
    "id": "de179e52"
   },
   "source": [
    "### 6. Utilizza il modello con tutte le features per prevedere il prezzo delle abitazioni che trovi in [questo file csv](https://raw.githubusercontent.com/ProfAI/machine-learning-fondamenti/main/datasets/housing_predict.csv)."
   ]
  },
  {
   "cell_type": "code",
   "execution_count": 24,
   "id": "jx2oJESUVAWV",
   "metadata": {
    "colab": {
     "base_uri": "https://localhost:8080/",
     "height": 206
    },
    "id": "jx2oJESUVAWV",
    "outputId": "5595c35a-428c-4b1d-a14f-1be9dda7d61d"
   },
   "outputs": [
    {
     "data": {
      "text/html": [
       "<div>\n",
       "<style scoped>\n",
       "    .dataframe tbody tr th:only-of-type {\n",
       "        vertical-align: middle;\n",
       "    }\n",
       "\n",
       "    .dataframe tbody tr th {\n",
       "        vertical-align: top;\n",
       "    }\n",
       "\n",
       "    .dataframe thead th {\n",
       "        text-align: right;\n",
       "    }\n",
       "</style>\n",
       "<table border=\"1\" class=\"dataframe\">\n",
       "  <thead>\n",
       "    <tr style=\"text-align: right;\">\n",
       "      <th></th>\n",
       "      <th>OWNER</th>\n",
       "      <th>CRIM</th>\n",
       "      <th>ZN</th>\n",
       "      <th>INDUS</th>\n",
       "      <th>CHAS</th>\n",
       "      <th>NOX</th>\n",
       "      <th>RM</th>\n",
       "      <th>AGE</th>\n",
       "      <th>DIS</th>\n",
       "      <th>RAD</th>\n",
       "      <th>TAX</th>\n",
       "      <th>PTRATIO</th>\n",
       "      <th>B</th>\n",
       "      <th>LSTAT</th>\n",
       "    </tr>\n",
       "  </thead>\n",
       "  <tbody>\n",
       "    <tr>\n",
       "      <th>0</th>\n",
       "      <td>Alan Turing</td>\n",
       "      <td>0.02899</td>\n",
       "      <td>40.0</td>\n",
       "      <td>1.25</td>\n",
       "      <td>0.0</td>\n",
       "      <td>0.429</td>\n",
       "      <td>6.939</td>\n",
       "      <td>34.5</td>\n",
       "      <td>8.7921</td>\n",
       "      <td>1.0</td>\n",
       "      <td>335.0</td>\n",
       "      <td>19.7</td>\n",
       "      <td>389.85</td>\n",
       "      <td>5.89</td>\n",
       "    </tr>\n",
       "    <tr>\n",
       "      <th>1</th>\n",
       "      <td>Elon Musk</td>\n",
       "      <td>0.34109</td>\n",
       "      <td>0.0</td>\n",
       "      <td>7.38</td>\n",
       "      <td>0.0</td>\n",
       "      <td>0.493</td>\n",
       "      <td>6.415</td>\n",
       "      <td>40.1</td>\n",
       "      <td>4.7211</td>\n",
       "      <td>5.0</td>\n",
       "      <td>287.0</td>\n",
       "      <td>19.6</td>\n",
       "      <td>396.90</td>\n",
       "      <td>6.12</td>\n",
       "    </tr>\n",
       "    <tr>\n",
       "      <th>2</th>\n",
       "      <td>Steve Jobs</td>\n",
       "      <td>0.25356</td>\n",
       "      <td>0.0</td>\n",
       "      <td>9.90</td>\n",
       "      <td>0.0</td>\n",
       "      <td>0.544</td>\n",
       "      <td>5.705</td>\n",
       "      <td>77.7</td>\n",
       "      <td>3.9450</td>\n",
       "      <td>4.0</td>\n",
       "      <td>304.0</td>\n",
       "      <td>18.4</td>\n",
       "      <td>396.42</td>\n",
       "      <td>11.50</td>\n",
       "    </tr>\n",
       "    <tr>\n",
       "      <th>3</th>\n",
       "      <td>Chuck Norris</td>\n",
       "      <td>0.04297</td>\n",
       "      <td>52.5</td>\n",
       "      <td>5.32</td>\n",
       "      <td>0.0</td>\n",
       "      <td>0.405</td>\n",
       "      <td>6.565</td>\n",
       "      <td>22.9</td>\n",
       "      <td>7.3172</td>\n",
       "      <td>6.0</td>\n",
       "      <td>293.0</td>\n",
       "      <td>16.6</td>\n",
       "      <td>371.72</td>\n",
       "      <td>9.51</td>\n",
       "    </tr>\n",
       "    <tr>\n",
       "      <th>4</th>\n",
       "      <td>Giuseppe Gullo</td>\n",
       "      <td>0.03584</td>\n",
       "      <td>80.0</td>\n",
       "      <td>3.37</td>\n",
       "      <td>0.0</td>\n",
       "      <td>0.398</td>\n",
       "      <td>6.290</td>\n",
       "      <td>17.8</td>\n",
       "      <td>6.6115</td>\n",
       "      <td>4.0</td>\n",
       "      <td>337.0</td>\n",
       "      <td>16.1</td>\n",
       "      <td>396.90</td>\n",
       "      <td>4.67</td>\n",
       "    </tr>\n",
       "  </tbody>\n",
       "</table>\n",
       "</div>"
      ],
      "text/plain": [
       "            OWNER     CRIM    ZN  INDUS  CHAS    NOX     RM   AGE     DIS  \\\n",
       "0     Alan Turing  0.02899  40.0   1.25   0.0  0.429  6.939  34.5  8.7921   \n",
       "1       Elon Musk  0.34109   0.0   7.38   0.0  0.493  6.415  40.1  4.7211   \n",
       "2      Steve Jobs  0.25356   0.0   9.90   0.0  0.544  5.705  77.7  3.9450   \n",
       "3    Chuck Norris  0.04297  52.5   5.32   0.0  0.405  6.565  22.9  7.3172   \n",
       "4  Giuseppe Gullo  0.03584  80.0   3.37   0.0  0.398  6.290  17.8  6.6115   \n",
       "\n",
       "   RAD    TAX  PTRATIO       B  LSTAT  \n",
       "0  1.0  335.0     19.7  389.85   5.89  \n",
       "1  5.0  287.0     19.6  396.90   6.12  \n",
       "2  4.0  304.0     18.4  396.42  11.50  \n",
       "3  6.0  293.0     16.6  371.72   9.51  \n",
       "4  4.0  337.0     16.1  396.90   4.67  "
      ]
     },
     "execution_count": 24,
     "metadata": {},
     "output_type": "execute_result"
    }
   ],
   "source": [
    "df_pred = pd.read_csv(BASE_URL+\"housing_predict.csv\")\n",
    "df_pred.head()"
   ]
  },
  {
   "cell_type": "code",
   "execution_count": 25,
   "id": "178a42bf",
   "metadata": {
    "id": "178a42bf"
   },
   "outputs": [],
   "source": [
    "X = df_pred.drop(\"OWNER\", axis=1).values #owner è in questo caso una feature, è solo un codice identificativo \n",
    "X = ss.transform(X)"
   ]
  },
  {
   "cell_type": "code",
   "execution_count": 26,
   "id": "0839f9b3",
   "metadata": {
    "colab": {
     "base_uri": "https://localhost:8080/"
    },
    "id": "0839f9b3",
    "outputId": "308b46d2-5252-4549-fb2b-f74d0e6ca286"
   },
   "outputs": [
    {
     "data": {
      "text/plain": [
       "array([22.14633467, 25.11948741, 20.54343769, 26.91105226, 30.36557584])"
      ]
     },
     "execution_count": 26,
     "metadata": {},
     "output_type": "execute_result"
    }
   ],
   "source": [
    "y_pred = lr.predict(X)\n",
    "y_pred"
   ]
  },
  {
   "cell_type": "markdown",
   "id": "f27316b1",
   "metadata": {
    "id": "f27316b1"
   },
   "source": [
    "### 8. Salva il risultato in un file excel chiamato \"housing_estimate.xlsx\", deve contenere due colonne: OWNER=il proprietario dell'abitazione, ESTIMATED PRICE=il valore stimato dal nostro modello."
   ]
  },
  {
   "cell_type": "code",
   "execution_count": 27,
   "id": "ca06c263",
   "metadata": {
    "id": "ca06c263"
   },
   "outputs": [
    {
     "data": {
      "text/html": [
       "<div>\n",
       "<style scoped>\n",
       "    .dataframe tbody tr th:only-of-type {\n",
       "        vertical-align: middle;\n",
       "    }\n",
       "\n",
       "    .dataframe tbody tr th {\n",
       "        vertical-align: top;\n",
       "    }\n",
       "\n",
       "    .dataframe thead th {\n",
       "        text-align: right;\n",
       "    }\n",
       "</style>\n",
       "<table border=\"1\" class=\"dataframe\">\n",
       "  <thead>\n",
       "    <tr style=\"text-align: right;\">\n",
       "      <th></th>\n",
       "      <th>owner</th>\n",
       "      <th>estimated price</th>\n",
       "    </tr>\n",
       "  </thead>\n",
       "  <tbody>\n",
       "    <tr>\n",
       "      <th>0</th>\n",
       "      <td>Alan Turing</td>\n",
       "      <td>22.146335</td>\n",
       "    </tr>\n",
       "    <tr>\n",
       "      <th>1</th>\n",
       "      <td>Elon Musk</td>\n",
       "      <td>25.119487</td>\n",
       "    </tr>\n",
       "    <tr>\n",
       "      <th>2</th>\n",
       "      <td>Steve Jobs</td>\n",
       "      <td>20.543438</td>\n",
       "    </tr>\n",
       "    <tr>\n",
       "      <th>3</th>\n",
       "      <td>Chuck Norris</td>\n",
       "      <td>26.911052</td>\n",
       "    </tr>\n",
       "    <tr>\n",
       "      <th>4</th>\n",
       "      <td>Giuseppe Gullo</td>\n",
       "      <td>30.365576</td>\n",
       "    </tr>\n",
       "  </tbody>\n",
       "</table>\n",
       "</div>"
      ],
      "text/plain": [
       "            owner  estimated price\n",
       "0     Alan Turing        22.146335\n",
       "1       Elon Musk        25.119487\n",
       "2      Steve Jobs        20.543438\n",
       "3    Chuck Norris        26.911052\n",
       "4  Giuseppe Gullo        30.365576"
      ]
     },
     "execution_count": 27,
     "metadata": {},
     "output_type": "execute_result"
    }
   ],
   "source": [
    "df_result = pd.DataFrame({\"owner\":df_pred[\"OWNER\"].values, \"estimated price\":y_pred})\n",
    "df_result.head()"
   ]
  },
  {
   "cell_type": "code",
   "execution_count": 28,
   "id": "1fd97bd7",
   "metadata": {
    "id": "1fd97bd7"
   },
   "outputs": [],
   "source": [
    "df_result.to_excel(\"housing_estimate.xlsx\")"
   ]
  },
  {
   "cell_type": "code",
   "execution_count": null,
   "id": "1bb49a82",
   "metadata": {},
   "outputs": [],
   "source": []
  }
 ],
 "metadata": {
  "colab": {
   "name": "regressione_exercises.ipynb",
   "provenance": []
  },
  "kernelspec": {
   "display_name": "Python 3 (ipykernel)",
   "language": "python",
   "name": "python3"
  },
  "language_info": {
   "codemirror_mode": {
    "name": "ipython",
    "version": 3
   },
   "file_extension": ".py",
   "mimetype": "text/x-python",
   "name": "python",
   "nbconvert_exporter": "python",
   "pygments_lexer": "ipython3",
   "version": "3.11.5"
  }
 },
 "nbformat": 4,
 "nbformat_minor": 5
}
