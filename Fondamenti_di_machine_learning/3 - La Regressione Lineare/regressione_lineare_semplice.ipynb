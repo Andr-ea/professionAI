{
 "cells": [
  {
   "cell_type": "markdown",
   "id": "acbd7874",
   "metadata": {},
   "source": [
    "## La Regressione Lineare Semplice"
   ]
  },
  {
   "cell_type": "code",
   "execution_count": 4,
   "id": "bd75c363",
   "metadata": {},
   "outputs": [],
   "source": [
    "import numpy as np"
   ]
  },
  {
   "cell_type": "markdown",
   "id": "4def9ae4",
   "metadata": {},
   "source": [
    "#### Creiamo una classe per la regressione lineare semplice"
   ]
  },
  {
   "cell_type": "code",
   "execution_count": null,
   "id": "0319732f",
   "metadata": {},
   "outputs": [],
   "source": [
    "class LinearRegression:\n",
    "    \n",
    "    \n",
    "    coef_ = None\n",
    "    intercept_ = None\n",
    "    \n",
    "    \n",
    "    def fit(self, x, y):\n",
    "        \n",
    "        x_sum = x.sum()\n",
    "        y_sum = y.sum()\n",
    "        xy_sum = (x*y).sum()\n",
    "        x2_sum = (x*x).sum()\n",
    "        n = y.shape[0]\n",
    "        \n",
    "        self.coef_ = (n*(xy_sum)-x_sum*y_sum)/(n*x2_sum-x_sum*x_sum)\n",
    "        self.intercept_ = (y_sum-self.coef_*x_sum)/n\n",
    "    \n",
    "    \n",
    "    def predict(self, x):\n",
    "        return self.coef_*x+self.intercept_"
   ]
  },
  {
   "cell_type": "markdown",
   "id": "f75542d6",
   "metadata": {},
   "source": [
    "#### Definiamo delle metriche"
   ]
  },
  {
   "cell_type": "code",
   "execution_count": 16,
   "id": "a759d804",
   "metadata": {},
   "outputs": [],
   "source": [
    "def _rss(y_true, y_pred):\n",
    "    return np.power(y_true-y_pred, 2).sum()\n",
    "\n",
    "def _sst(y_true, y_pred):\n",
    "    return np.power(y_true-y_pred.mean(), 2).sum()\n",
    "\n",
    "def mean_absolute_error(y_true, y_pred):\n",
    "    return np.abs(y_true-y_pred).sum()/y_true.shape[0]\n",
    "\n",
    "def mean_squared_error(y_true, y_pred):\n",
    "    return np.power(y_true-y_pred, 2).sum()/y_true.shape[0]\n",
    "\n",
    "def root_mean_squared_error(y_true, y_pred):\n",
    "    return np.sqrt(mean_squared_error(y_true, y_pred))\n",
    "\n",
    "def r2_score(y_true, y_pred):\n",
    "    return 1-_rss(y_true, y_pred)/_sst(y_true, y_pred)"
   ]
  },
  {
   "cell_type": "markdown",
   "id": "c1cbb93c",
   "metadata": {},
   "source": [
    "#### Addestriamo e testiamo un modello"
   ]
  },
  {
   "cell_type": "code",
   "execution_count": 17,
   "id": "4c63e753",
   "metadata": {},
   "outputs": [
    {
     "name": "stdout",
     "output_type": "stream",
     "text": [
      "[[18.00870511 28.9390642  10.20130577 13.32426551 24.25462459 14.88574538\n",
      "  22.69314472 22.69314472]]\n"
     ]
    }
   ],
   "source": [
    "x_train = np.array([[80, 150, 30, 50, 120, 60, 110, 110]])\n",
    "y_train = np.array([16, 30, 12, 10, 24, 18, 20, 25])\n",
    "\n",
    "lr = LinearRegression()\n",
    "lr.fit(x_train, y_train)\n",
    "y_pred = lr.predict(x_train)\n",
    "print(y_pred)"
   ]
  },
  {
   "cell_type": "code",
   "execution_count": 18,
   "id": "906883cf",
   "metadata": {},
   "outputs": [
    {
     "name": "stdout",
     "output_type": "stream",
     "text": [
      "MAE = 2.0701849836779105\n",
      "MSE = 5.223068552774754\n",
      "RMSE = 2.2854033676300456\n",
      "R2 = 0.8701839272320061\n"
     ]
    }
   ],
   "source": [
    "print(f\"MAE = {mean_absolute_error(y_train, y_pred)}\")\n",
    "print(f\"MSE = {mean_squared_error(y_train, y_pred)}\")\n",
    "print(f\"RMSE = {root_mean_squared_error(y_train, y_pred)}\")\n",
    "print(f\"R2 = {r2_score(y_train, y_pred)}\")"
   ]
  },
  {
   "cell_type": "markdown",
   "id": "24d8905d",
   "metadata": {},
   "source": [
    "#### Visualizziamo il modello"
   ]
  },
  {
   "cell_type": "code",
   "execution_count": 24,
   "id": "8713d53b",
   "metadata": {},
   "outputs": [
    {
     "data": {
      "image/png": "[encoded data removed]",
      "text/plain": [
       "<Figure size 640x480 with 1 Axes>"
      ]
     },
     "metadata": {
      "needs_background": "light"
     },
     "output_type": "display_data"
    }
   ],
   "source": [
    "import matplotlib.pyplot as plt\n",
    "plt.figure(figsize=(8, 6), dpi=80)\n",
    "\n",
    "x_line = np.arange(1, 150)\n",
    "y_line = lr.predict(x_line)\n",
    "\n",
    "plt.grid()\n",
    "plt.scatter(x_train, y_train, c=\"green\")\n",
    "plt.plot(y_line, c=\"red\")\n",
    "plt.show()"
   ]
  }
 ],
 "metadata": {
  "kernelspec": {
   "display_name": "Python 3 (ipykernel)",
   "language": "python",
   "name": "python3"
  },
  "language_info": {
   "codemirror_mode": {
    "name": "ipython",
    "version": 3
   },
   "file_extension": ".py",
   "mimetype": "text/x-python",
   "name": "python",
   "nbconvert_exporter": "python",
   "pygments_lexer": "ipython3",
   "version": "3.11.5"
  }
 },
 "nbformat": 4,
 "nbformat_minor": 5
}
