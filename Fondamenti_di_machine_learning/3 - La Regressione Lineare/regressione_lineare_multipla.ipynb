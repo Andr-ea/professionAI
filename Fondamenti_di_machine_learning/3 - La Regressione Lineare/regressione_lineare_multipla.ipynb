{
 "cells": [
  {
   "cell_type": "markdown",
   "id": "200a801c",
   "metadata": {},
   "source": [
    "## La Regressione Lineare Multipla"
   ]
  },
  {
   "cell_type": "markdown",
   "id": "ed08e123",
   "metadata": {},
   "source": [
    "#### Regressione lineare semplice con sklearn"
   ]
  },
  {
   "cell_type": "code",
   "execution_count": 4,
   "id": "1a42039c",
   "metadata": {},
   "outputs": [],
   "source": [
    "import numpy as np\n",
    "from sklearn.linear_model import LinearRegression"
   ]
  },
  {
   "cell_type": "code",
   "execution_count": 7,
   "id": "1b64b50a",
   "metadata": {},
   "outputs": [
    {
     "name": "stdout",
     "output_type": "stream",
     "text": [
      "[18.00870511 28.9390642  10.20130577 13.32426551 24.25462459 14.88574538\n",
      " 22.69314472 22.69314472]\n"
     ]
    }
   ],
   "source": [
    "X_train = np.array([[80], [150], [30], [50], [120], [60], [110], [110]])\n",
    "y_train = np.array([16, 30, 12, 10, 24, 18, 20, 25])\n",
    "\n",
    "lr = LinearRegression()\n",
    "lr.fit(X_train, y_train)\n",
    "y_pred = lr.predict(X_train)\n",
    "print(y_pred)"
   ]
  },
  {
   "cell_type": "code",
   "execution_count": 12,
   "id": "916a9eba",
   "metadata": {},
   "outputs": [
    {
     "name": "stdout",
     "output_type": "stream",
     "text": [
      "MAE = 2.0701849836779105\n",
      "MSE = 5.223068552774754\n",
      "RMSE = 2.2854033676300456\n",
      "R2 = 0.8701839272320061\n"
     ]
    }
   ],
   "source": [
    "from sklearn.metrics import mean_squared_error, mean_absolute_error, r2_score\n",
    "\n",
    "print(f\"MAE = {mean_absolute_error(y_train, y_pred)}\")\n",
    "print(f\"MSE = {mean_squared_error(y_train, y_pred)}\")\n",
    "print(f\"RMSE = {np.sqrt(mean_squared_error(y_train, y_pred))}\")\n",
    "print(f\"R2 = {r2_score(y_train, y_pred)}\")"
   ]
  },
  {
   "cell_type": "markdown",
   "id": "ede1cc3f",
   "metadata": {},
   "source": [
    "#### Regressione lineare multipla con sklearn"
   ]
  },
  {
   "cell_type": "code",
   "execution_count": 13,
   "id": "6da87638",
   "metadata": {},
   "outputs": [
    {
     "name": "stdout",
     "output_type": "stream",
     "text": [
      "[16.15808489 30.59457282 12.23260468 10.46227224 23.91625296 17.43716373\n",
      " 19.39762951 24.80141918]\n"
     ]
    }
   ],
   "source": [
    "X_train = np.array([[80, 1995], [150, 1995], [30, 2008], [50, 1996], \n",
    "                    [120, 1994], [60, 2006], [110, 1989], [110, 2000]])\n",
    "y_train = np.array([16, 30, 12, 10, 24, 18, 20, 25])\n",
    "\n",
    "lr = LinearRegression()\n",
    "lr.fit(X_train, y_train)\n",
    "y_pred = lr.predict(X_train)\n",
    "print(y_pred)"
   ]
  },
  {
   "cell_type": "code",
   "execution_count": 14,
   "id": "091a2c6f",
   "metadata": {},
   "outputs": [
    {
     "name": "stdout",
     "output_type": "stream",
     "text": [
      "MAE = 0.361883658669754\n",
      "MSE = 0.17154887843424987\n",
      "RMSE = 0.414184594636558\n",
      "R2 = 0.9957362608855177\n"
     ]
    }
   ],
   "source": [
    "print(f\"MAE = {mean_absolute_error(y_train, y_pred)}\")\n",
    "print(f\"MSE = {mean_squared_error(y_train, y_pred)}\")\n",
    "print(f\"RMSE = {np.sqrt(mean_squared_error(y_train, y_pred))}\")\n",
    "print(f\"R2 = {r2_score(y_train, y_pred)}\")"
   ]
  },
  {
   "cell_type": "code",
   "execution_count": null,
   "id": "214d3089",
   "metadata": {},
   "outputs": [],
   "source": []
  },
  {
   "cell_type": "code",
   "execution_count": null,
   "id": "9bbbcc9f",
   "metadata": {},
   "outputs": [],
   "source": []
  },
  {
   "cell_type": "code",
   "execution_count": null,
   "id": "c6a0db8a",
   "metadata": {},
   "outputs": [],
   "source": []
  }
 ],
 "metadata": {
  "kernelspec": {
   "display_name": "Python 3.7.4 64-bit ('base': conda)",
   "language": "python",
   "name": "python37464bitbaseconda78b00ce9b4da4d77b0796cc32fd5efe8"
  },
  "language_info": {
   "codemirror_mode": {
    "name": "ipython",
    "version": 3
   },
   "file_extension": ".py",
   "mimetype": "text/x-python",
   "name": "python",
   "nbconvert_exporter": "python",
   "pygments_lexer": "ipython3",
   "version": "3.8.8"
  }
 },
 "nbformat": 4,
 "nbformat_minor": 5
}
