{
 "cells": [
  {
   "cell_type": "markdown",
   "metadata": {
    "id": "e4__to0e8oV9"
   },
   "source": [
    "# Operare su dati qualitativi"
   ]
  },
  {
   "cell_type": "code",
   "execution_count": 21,
   "metadata": {
    "colab": {
     "base_uri": "https://localhost:8080/",
     "height": 203
    },
    "id": "eOWQ9lS-8oV-",
    "outputId": "b48a6c2e-dbc4-4fc7-ddcb-07b716a64bf0"
   },
   "outputs": [
    {
     "data": {
      "text/html": [
       "<div>\n",
       "<style scoped>\n",
       "    .dataframe tbody tr th:only-of-type {\n",
       "        vertical-align: middle;\n",
       "    }\n",
       "\n",
       "    .dataframe tbody tr th {\n",
       "        vertical-align: top;\n",
       "    }\n",
       "\n",
       "    .dataframe thead th {\n",
       "        text-align: right;\n",
       "    }\n",
       "</style>\n",
       "<table border=\"1\" class=\"dataframe\">\n",
       "  <thead>\n",
       "    <tr style=\"text-align: right;\">\n",
       "      <th></th>\n",
       "      <th>taglia</th>\n",
       "      <th>colore</th>\n",
       "      <th>prezzo</th>\n",
       "    </tr>\n",
       "  </thead>\n",
       "  <tbody>\n",
       "    <tr>\n",
       "      <th>0</th>\n",
       "      <td>S</td>\n",
       "      <td>bianco</td>\n",
       "      <td>4.99</td>\n",
       "    </tr>\n",
       "    <tr>\n",
       "      <th>1</th>\n",
       "      <td>M</td>\n",
       "      <td>bianco</td>\n",
       "      <td>19.99</td>\n",
       "    </tr>\n",
       "    <tr>\n",
       "      <th>2</th>\n",
       "      <td>XL</td>\n",
       "      <td>bianco</td>\n",
       "      <td>12.49</td>\n",
       "    </tr>\n",
       "    <tr>\n",
       "      <th>3</th>\n",
       "      <td>XL</td>\n",
       "      <td>bianco</td>\n",
       "      <td>14.99</td>\n",
       "    </tr>\n",
       "    <tr>\n",
       "      <th>4</th>\n",
       "      <td>S</td>\n",
       "      <td>bianco</td>\n",
       "      <td>14.99</td>\n",
       "    </tr>\n",
       "  </tbody>\n",
       "</table>\n",
       "</div>"
      ],
      "text/plain": [
       "  taglia  colore  prezzo\n",
       "0      S  bianco    4.99\n",
       "1      M  bianco   19.99\n",
       "2     XL  bianco   12.49\n",
       "3     XL  bianco   14.99\n",
       "4      S  bianco   14.99"
      ]
     },
     "execution_count": 21,
     "metadata": {},
     "output_type": "execute_result"
    }
   ],
   "source": [
    "import pandas as pd\n",
    "\n",
    "CSV_URL = \"https://raw.githubusercontent.com/ProfAI/machine-learning-fondamenti/main/datasets/shirts.csv\"\n",
    "\n",
    "shirts = pd.read_csv(CSV_URL, index_col=0)\n",
    "shirts.head()"
   ]
  },
  {
   "cell_type": "markdown",
   "metadata": {
    "id": "rmFUvWem8oWE"
   },
   "source": [
    "## Ordinal encoding delle variabili ordinali"
   ]
  },
  {
   "cell_type": "markdown",
   "metadata": {
    "id": "Kv8GM_0Z8oWJ"
   },
   "source": [
    "#### Pandas"
   ]
  },
  {
   "cell_type": "code",
   "execution_count": 3,
   "metadata": {
    "colab": {
     "base_uri": "https://localhost:8080/",
     "height": 203
    },
    "id": "TRJU9Yv78oWK",
    "outputId": "d75197f0-c3b4-4912-c11b-735d9df5bc88"
   },
   "outputs": [
    {
     "data": {
      "text/html": [
       "<div>\n",
       "<style scoped>\n",
       "    .dataframe tbody tr th:only-of-type {\n",
       "        vertical-align: middle;\n",
       "    }\n",
       "\n",
       "    .dataframe tbody tr th {\n",
       "        vertical-align: top;\n",
       "    }\n",
       "\n",
       "    .dataframe thead th {\n",
       "        text-align: right;\n",
       "    }\n",
       "</style>\n",
       "<table border=\"1\" class=\"dataframe\">\n",
       "  <thead>\n",
       "    <tr style=\"text-align: right;\">\n",
       "      <th></th>\n",
       "      <th>taglia</th>\n",
       "      <th>colore</th>\n",
       "      <th>prezzo</th>\n",
       "    </tr>\n",
       "  </thead>\n",
       "  <tbody>\n",
       "    <tr>\n",
       "      <th>0</th>\n",
       "      <td>0</td>\n",
       "      <td>bianco</td>\n",
       "      <td>4.99</td>\n",
       "    </tr>\n",
       "    <tr>\n",
       "      <th>1</th>\n",
       "      <td>1</td>\n",
       "      <td>bianco</td>\n",
       "      <td>19.99</td>\n",
       "    </tr>\n",
       "    <tr>\n",
       "      <th>2</th>\n",
       "      <td>3</td>\n",
       "      <td>bianco</td>\n",
       "      <td>12.49</td>\n",
       "    </tr>\n",
       "    <tr>\n",
       "      <th>3</th>\n",
       "      <td>3</td>\n",
       "      <td>bianco</td>\n",
       "      <td>14.99</td>\n",
       "    </tr>\n",
       "    <tr>\n",
       "      <th>4</th>\n",
       "      <td>0</td>\n",
       "      <td>bianco</td>\n",
       "      <td>14.99</td>\n",
       "    </tr>\n",
       "  </tbody>\n",
       "</table>\n",
       "</div>"
      ],
      "text/plain": [
       "   taglia  colore  prezzo\n",
       "0       0  bianco    4.99\n",
       "1       1  bianco   19.99\n",
       "2       3  bianco   12.49\n",
       "3       3  bianco   14.99\n",
       "4       0  bianco   14.99"
      ]
     },
     "execution_count": 3,
     "metadata": {},
     "output_type": "execute_result"
    }
   ],
   "source": [
    "size_mapping = {\"S\":0,\"M\":1,\"L\":2,\"XL\":3} #dizionario che ordina le misure\n",
    "shirts[\"taglia\"] = shirts[\"taglia\"].map(size_mapping) #mappiamo la misura con il numero corrispondente\n",
    "shirts.head()"
   ]
  },
  {
   "cell_type": "markdown",
   "metadata": {
    "id": "AEyvm7gW8oWF"
   },
   "source": [
    "#### Numpy"
   ]
  },
  {
   "cell_type": "code",
   "execution_count": 4,
   "metadata": {
    "colab": {
     "base_uri": "https://localhost:8080/",
     "height": 103
    },
    "id": "_8w14Gjt8oWG",
    "outputId": "d7d9b128-faf5-44d9-db8c-497127571dfe"
   },
   "outputs": [
    {
     "data": {
      "text/plain": [
       "array([[0, 'bianco', 4.99],\n",
       "       [1, 'bianco', 19.99],\n",
       "       [3, 'bianco', 12.49],\n",
       "       [3, 'bianco', 14.99],\n",
       "       [0, 'bianco', 14.99]], dtype=object)"
      ]
     },
     "execution_count": 4,
     "metadata": {},
     "output_type": "execute_result"
    }
   ],
   "source": [
    "import numpy as np\n",
    "\n",
    "shirts = pd.read_csv(CSV_URL,index_col=0)\n",
    "X = shirts.values\n",
    "\n",
    "size_mapping = {\"S\":0,\"M\":1,\"L\":2,\"XL\":3} #dizionario che ordina le misure\n",
    "fmap = np.vectorize(lambda t:size_mapping[t])\n",
    "X[:,0] = fmap(X[:,0])\n",
    "X[:5]"
   ]
  },
  {
   "cell_type": "markdown",
   "metadata": {
    "id": "gwVG4Ai_8oWO"
   },
   "source": [
    "## One-hot encoding"
   ]
  },
  {
   "cell_type": "markdown",
   "metadata": {
    "id": "V_iPdBAz8oWO"
   },
   "source": [
    "#### Scikit-learn"
   ]
  },
  {
   "cell_type": "code",
   "execution_count": 10,
   "metadata": {
    "colab": {
     "base_uri": "https://localhost:8080/",
     "height": 226
    },
    "id": "_AT3khFB8oWP",
    "outputId": "90dd223a-b4cd-43b9-bc60-7c7d36003896"
   },
   "outputs": [
    {
     "data": {
      "text/plain": [
       "array([[1., 0., 0., 0.],\n",
       "       [0., 0., 1., 0.],\n",
       "       [1., 0., 0., 0.],\n",
       "       [0., 1., 0., 0.],\n",
       "       [0., 0., 1., 0.],\n",
       "       [0., 0., 0., 1.]])"
      ]
     },
     "execution_count": 10,
     "metadata": {},
     "output_type": "execute_result"
    }
   ],
   "source": [
    "from sklearn.preprocessing import OneHotEncoder\n",
    "\n",
    "X = [[\"bianco\"], [\"rosso\"], [\"bianco\"], [\"blu\"], [\"rosso\"], [\"verde\"]]\n",
    "\n",
    "enc = OneHotEncoder()\n",
    "X_sparse = enc.fit_transform(X)\n",
    "X = X_sparse.toarray()\n",
    "X"
   ]
  },
  {
   "cell_type": "code",
   "execution_count": 15,
   "metadata": {},
   "outputs": [
    {
     "data": {
      "text/plain": [
       "[array(['bianco', 'blu', 'rosso', 'verde'], dtype=object)]"
      ]
     },
     "execution_count": 15,
     "metadata": {},
     "output_type": "execute_result"
    }
   ],
   "source": [
    "enc.categories_"
   ]
  },
  {
   "cell_type": "code",
   "execution_count": 9,
   "metadata": {
    "colab": {
     "base_uri": "https://localhost:8080/",
     "height": 103
    },
    "id": "xybQKi529c0p",
    "outputId": "90d8dd95-8e0b-4040-a70a-1edd29be7c34"
   },
   "outputs": [
    {
     "data": {
      "text/plain": [
       "array([[1.0, 0.0, 0.0, 'S', 4.99],\n",
       "       [1.0, 0.0, 0.0, 'M', 19.99],\n",
       "       [1.0, 0.0, 0.0, 'XL', 12.49],\n",
       "       [1.0, 0.0, 0.0, 'XL', 14.99],\n",
       "       [1.0, 0.0, 0.0, 'S', 14.99],\n",
       "       [0.0, 0.0, 1.0, 'S', 7.99],\n",
       "       [0.0, 0.0, 1.0, 'M', 4.99],\n",
       "       [0.0, 0.0, 1.0, 'L', 12.49],\n",
       "       [1.0, 0.0, 0.0, 'XL', 12.49],\n",
       "       [0.0, 0.0, 1.0, 'M', 19.99],\n",
       "       [1.0, 0.0, 0.0, 'L', 14.99],\n",
       "       [1.0, 0.0, 0.0, 'XL', 19.99],\n",
       "       [1.0, 0.0, 0.0, 'M', 4.99],\n",
       "       [1.0, 0.0, 0.0, 'L', 7.99],\n",
       "       [1.0, 0.0, 0.0, 'M', 14.99],\n",
       "       [0.0, 1.0, 0.0, 'XL', 9.99],\n",
       "       [0.0, 1.0, 0.0, 'S', 12.49],\n",
       "       [1.0, 0.0, 0.0, 'L', 7.99],\n",
       "       [1.0, 0.0, 0.0, 'XL', 4.99],\n",
       "       [0.0, 0.0, 1.0, 'M', 14.99],\n",
       "       [0.0, 0.0, 1.0, 'S', 14.99],\n",
       "       [1.0, 0.0, 0.0, 'XL', 7.99],\n",
       "       [0.0, 0.0, 1.0, 'S', 9.99],\n",
       "       [1.0, 0.0, 0.0, 'XL', 14.99],\n",
       "       [0.0, 1.0, 0.0, 'S', 14.99],\n",
       "       [1.0, 0.0, 0.0, 'XL', 9.99],\n",
       "       [0.0, 0.0, 1.0, 'M', 7.99],\n",
       "       [1.0, 0.0, 0.0, 'XL', 4.99],\n",
       "       [0.0, 0.0, 1.0, 'S', 14.99],\n",
       "       [1.0, 0.0, 0.0, 'L', 12.49],\n",
       "       [0.0, 1.0, 0.0, 'M', 9.99],\n",
       "       [0.0, 0.0, 1.0, 'L', 9.99],\n",
       "       [0.0, 1.0, 0.0, 'XL', 7.99],\n",
       "       [1.0, 0.0, 0.0, 'M', 19.99],\n",
       "       [0.0, 0.0, 1.0, 'L', 12.49],\n",
       "       [1.0, 0.0, 0.0, 'L', 12.49],\n",
       "       [1.0, 0.0, 0.0, 'L', 9.99],\n",
       "       [1.0, 0.0, 0.0, 'XL', 14.99],\n",
       "       [0.0, 0.0, 1.0, 'L', 14.99],\n",
       "       [0.0, 0.0, 1.0, 'XL', 9.99],\n",
       "       [1.0, 0.0, 0.0, 'M', 14.99],\n",
       "       [0.0, 0.0, 1.0, 'L', 19.99],\n",
       "       [0.0, 0.0, 1.0, 'XL', 7.99],\n",
       "       [0.0, 0.0, 1.0, 'M', 19.99],\n",
       "       [0.0, 1.0, 0.0, 'L', 19.99],\n",
       "       [1.0, 0.0, 0.0, 'XL', 9.99],\n",
       "       [0.0, 1.0, 0.0, 'M', 12.49],\n",
       "       [1.0, 0.0, 0.0, 'S', 7.99],\n",
       "       [0.0, 1.0, 0.0, 'S', 14.99],\n",
       "       [0.0, 0.0, 1.0, 'S', 12.49],\n",
       "       [1.0, 0.0, 0.0, 'XL', 19.99],\n",
       "       [0.0, 0.0, 1.0, 'S', 14.99],\n",
       "       [1.0, 0.0, 0.0, 'S', 19.99],\n",
       "       [0.0, 0.0, 1.0, 'M', 9.99],\n",
       "       [0.0, 0.0, 1.0, 'L', 4.99],\n",
       "       [0.0, 0.0, 1.0, 'M', 12.49],\n",
       "       [1.0, 0.0, 0.0, 'L', 12.49],\n",
       "       [0.0, 0.0, 1.0, 'S', 7.99],\n",
       "       [0.0, 0.0, 1.0, 'S', 19.99],\n",
       "       [1.0, 0.0, 0.0, 'L', 9.99],\n",
       "       [0.0, 1.0, 0.0, 'XL', 14.99],\n",
       "       [1.0, 0.0, 0.0, 'M', 12.49],\n",
       "       [1.0, 0.0, 0.0, 'XL', 14.99],\n",
       "       [1.0, 0.0, 0.0, 'L', 9.99],\n",
       "       [0.0, 0.0, 1.0, 'XL', 14.99],\n",
       "       [1.0, 0.0, 0.0, 'L', 12.49],\n",
       "       [1.0, 0.0, 0.0, 'XL', 4.99],\n",
       "       [1.0, 0.0, 0.0, 'L', 14.99],\n",
       "       [0.0, 0.0, 1.0, 'L', 9.99],\n",
       "       [0.0, 1.0, 0.0, 'S', 14.99],\n",
       "       [0.0, 1.0, 0.0, 'S', 19.99],\n",
       "       [0.0, 1.0, 0.0, 'XL', 14.99],\n",
       "       [1.0, 0.0, 0.0, 'S', 9.99],\n",
       "       [0.0, 1.0, 0.0, 'S', 14.99],\n",
       "       [1.0, 0.0, 0.0, 'L', 9.99],\n",
       "       [1.0, 0.0, 0.0, 'XL', 9.99],\n",
       "       [0.0, 0.0, 1.0, 'L', 19.99],\n",
       "       [1.0, 0.0, 0.0, 'XL', 19.99],\n",
       "       [1.0, 0.0, 0.0, 'M', 4.99],\n",
       "       [1.0, 0.0, 0.0, 'M', 9.99],\n",
       "       [1.0, 0.0, 0.0, 'S', 14.99],\n",
       "       [1.0, 0.0, 0.0, 'L', 19.99],\n",
       "       [0.0, 0.0, 1.0, 'S', 7.99],\n",
       "       [0.0, 0.0, 1.0, 'XL', 9.99],\n",
       "       [1.0, 0.0, 0.0, 'M', 12.49],\n",
       "       [0.0, 0.0, 1.0, 'L', 4.99],\n",
       "       [1.0, 0.0, 0.0, 'M', 7.99],\n",
       "       [0.0, 1.0, 0.0, 'M', 14.99],\n",
       "       [0.0, 1.0, 0.0, 'S', 9.99],\n",
       "       [0.0, 0.0, 1.0, 'M', 4.99],\n",
       "       [1.0, 0.0, 0.0, 'M', 12.49],\n",
       "       [0.0, 1.0, 0.0, 'M', 14.99],\n",
       "       [0.0, 0.0, 1.0, 'L', 19.99],\n",
       "       [0.0, 1.0, 0.0, 'M', 7.99],\n",
       "       [0.0, 0.0, 1.0, 'S', 4.99],\n",
       "       [1.0, 0.0, 0.0, 'L', 9.99],\n",
       "       [0.0, 0.0, 1.0, 'M', 14.99],\n",
       "       [0.0, 1.0, 0.0, 'S', 12.49],\n",
       "       [0.0, 1.0, 0.0, 'L', 12.49],\n",
       "       [0.0, 1.0, 0.0, 'S', 19.99]], dtype=object)"
      ]
     },
     "execution_count": 9,
     "metadata": {},
     "output_type": "execute_result"
    }
   ],
   "source": [
    "from sklearn.preprocessing import OneHotEncoder\n",
    "from sklearn.compose import ColumnTransformer\n",
    "\n",
    "X = shirts.values \n",
    "transf = ColumnTransformer([('ohe', OneHotEncoder(), [1])], remainder=\"passthrough\")\n",
    "\n",
    "X = transf.fit_transform(X)\n",
    "X "
   ]
  },
  {
   "cell_type": "markdown",
   "metadata": {
    "id": "unAcrOPB8oWS"
   },
   "source": [
    "### Pandas"
   ]
  },
  {
   "cell_type": "code",
   "execution_count": 22,
   "metadata": {
    "id": "-INxQq8z8oWT",
    "outputId": "d611333a-e022-45fe-9fd4-4b40830ac286"
   },
   "outputs": [
    {
     "data": {
      "text/html": [
       "<div>\n",
       "<style scoped>\n",
       "    .dataframe tbody tr th:only-of-type {\n",
       "        vertical-align: middle;\n",
       "    }\n",
       "\n",
       "    .dataframe tbody tr th {\n",
       "        vertical-align: top;\n",
       "    }\n",
       "\n",
       "    .dataframe thead th {\n",
       "        text-align: right;\n",
       "    }\n",
       "</style>\n",
       "<table border=\"1\" class=\"dataframe\">\n",
       "  <thead>\n",
       "    <tr style=\"text-align: right;\">\n",
       "      <th></th>\n",
       "      <th>taglia</th>\n",
       "      <th>prezzo</th>\n",
       "      <th>colore_bianco</th>\n",
       "      <th>colore_rosso</th>\n",
       "      <th>colore_verde</th>\n",
       "    </tr>\n",
       "  </thead>\n",
       "  <tbody>\n",
       "    <tr>\n",
       "      <th>0</th>\n",
       "      <td>S</td>\n",
       "      <td>4.99</td>\n",
       "      <td>1</td>\n",
       "      <td>0</td>\n",
       "      <td>0</td>\n",
       "    </tr>\n",
       "    <tr>\n",
       "      <th>1</th>\n",
       "      <td>M</td>\n",
       "      <td>19.99</td>\n",
       "      <td>1</td>\n",
       "      <td>0</td>\n",
       "      <td>0</td>\n",
       "    </tr>\n",
       "    <tr>\n",
       "      <th>2</th>\n",
       "      <td>XL</td>\n",
       "      <td>12.49</td>\n",
       "      <td>1</td>\n",
       "      <td>0</td>\n",
       "      <td>0</td>\n",
       "    </tr>\n",
       "    <tr>\n",
       "      <th>3</th>\n",
       "      <td>XL</td>\n",
       "      <td>14.99</td>\n",
       "      <td>1</td>\n",
       "      <td>0</td>\n",
       "      <td>0</td>\n",
       "    </tr>\n",
       "    <tr>\n",
       "      <th>4</th>\n",
       "      <td>S</td>\n",
       "      <td>14.99</td>\n",
       "      <td>1</td>\n",
       "      <td>0</td>\n",
       "      <td>0</td>\n",
       "    </tr>\n",
       "  </tbody>\n",
       "</table>\n",
       "</div>"
      ],
      "text/plain": [
       "  taglia  prezzo  colore_bianco  colore_rosso  colore_verde\n",
       "0      S    4.99              1             0             0\n",
       "1      M   19.99              1             0             0\n",
       "2     XL   12.49              1             0             0\n",
       "3     XL   14.99              1             0             0\n",
       "4      S   14.99              1             0             0"
      ]
     },
     "execution_count": 22,
     "metadata": {},
     "output_type": "execute_result"
    }
   ],
   "source": [
    "shirts = pd.get_dummies(shirts,columns=[\"colore\"]) # prefix=\"col\",  prefix_sep='-''\n",
    "shirts.head()"
   ]
  },
  {
   "cell_type": "markdown",
   "metadata": {},
   "source": [
    "## Label encoding per la variabile target"
   ]
  },
  {
   "cell_type": "code",
   "execution_count": 45,
   "metadata": {},
   "outputs": [
    {
     "data": {
      "text/html": [
       "<div>\n",
       "<style scoped>\n",
       "    .dataframe tbody tr th:only-of-type {\n",
       "        vertical-align: middle;\n",
       "    }\n",
       "\n",
       "    .dataframe tbody tr th {\n",
       "        vertical-align: top;\n",
       "    }\n",
       "\n",
       "    .dataframe thead th {\n",
       "        text-align: right;\n",
       "    }\n",
       "</style>\n",
       "<table border=\"1\" class=\"dataframe\">\n",
       "  <thead>\n",
       "    <tr style=\"text-align: right;\">\n",
       "      <th></th>\n",
       "      <th>taglia</th>\n",
       "      <th>colore</th>\n",
       "      <th>prezzo</th>\n",
       "      <th>venduta</th>\n",
       "    </tr>\n",
       "  </thead>\n",
       "  <tbody>\n",
       "    <tr>\n",
       "      <th>0</th>\n",
       "      <td>S</td>\n",
       "      <td>bianco</td>\n",
       "      <td>4.99</td>\n",
       "      <td>NO</td>\n",
       "    </tr>\n",
       "    <tr>\n",
       "      <th>1</th>\n",
       "      <td>M</td>\n",
       "      <td>bianco</td>\n",
       "      <td>19.99</td>\n",
       "      <td>SI</td>\n",
       "    </tr>\n",
       "    <tr>\n",
       "      <th>2</th>\n",
       "      <td>XL</td>\n",
       "      <td>bianco</td>\n",
       "      <td>12.49</td>\n",
       "      <td>NO</td>\n",
       "    </tr>\n",
       "    <tr>\n",
       "      <th>3</th>\n",
       "      <td>XL</td>\n",
       "      <td>bianco</td>\n",
       "      <td>14.99</td>\n",
       "      <td>NO</td>\n",
       "    </tr>\n",
       "    <tr>\n",
       "      <th>4</th>\n",
       "      <td>S</td>\n",
       "      <td>bianco</td>\n",
       "      <td>14.99</td>\n",
       "      <td>SI</td>\n",
       "    </tr>\n",
       "  </tbody>\n",
       "</table>\n",
       "</div>"
      ],
      "text/plain": [
       "  taglia  colore  prezzo venduta\n",
       "0      S  bianco    4.99      NO\n",
       "1      M  bianco   19.99      SI\n",
       "2     XL  bianco   12.49      NO\n",
       "3     XL  bianco   14.99      NO\n",
       "4      S  bianco   14.99      SI"
      ]
     },
     "execution_count": 45,
     "metadata": {},
     "output_type": "execute_result"
    }
   ],
   "source": [
    "CSV_URL = \"https://raw.githubusercontent.com/ProfAI/machine-learning-fondamenti/main/datasets/shirts_sold.csv\"\n",
    "\n",
    "shirts = pd.read_csv(CSV_URL, index_col=0)\n",
    "shirts.head()"
   ]
  },
  {
   "cell_type": "code",
   "execution_count": 48,
   "metadata": {},
   "outputs": [
    {
     "data": {
      "text/html": [
       "<div>\n",
       "<style scoped>\n",
       "    .dataframe tbody tr th:only-of-type {\n",
       "        vertical-align: middle;\n",
       "    }\n",
       "\n",
       "    .dataframe tbody tr th {\n",
       "        vertical-align: top;\n",
       "    }\n",
       "\n",
       "    .dataframe thead th {\n",
       "        text-align: right;\n",
       "    }\n",
       "</style>\n",
       "<table border=\"1\" class=\"dataframe\">\n",
       "  <thead>\n",
       "    <tr style=\"text-align: right;\">\n",
       "      <th></th>\n",
       "      <th>taglia</th>\n",
       "      <th>colore</th>\n",
       "      <th>prezzo</th>\n",
       "      <th>venduta</th>\n",
       "    </tr>\n",
       "  </thead>\n",
       "  <tbody>\n",
       "    <tr>\n",
       "      <th>0</th>\n",
       "      <td>S</td>\n",
       "      <td>bianco</td>\n",
       "      <td>4.99</td>\n",
       "      <td>0</td>\n",
       "    </tr>\n",
       "    <tr>\n",
       "      <th>1</th>\n",
       "      <td>M</td>\n",
       "      <td>bianco</td>\n",
       "      <td>19.99</td>\n",
       "      <td>1</td>\n",
       "    </tr>\n",
       "    <tr>\n",
       "      <th>2</th>\n",
       "      <td>XL</td>\n",
       "      <td>bianco</td>\n",
       "      <td>12.49</td>\n",
       "      <td>0</td>\n",
       "    </tr>\n",
       "    <tr>\n",
       "      <th>3</th>\n",
       "      <td>XL</td>\n",
       "      <td>bianco</td>\n",
       "      <td>14.99</td>\n",
       "      <td>0</td>\n",
       "    </tr>\n",
       "    <tr>\n",
       "      <th>4</th>\n",
       "      <td>S</td>\n",
       "      <td>bianco</td>\n",
       "      <td>14.99</td>\n",
       "      <td>1</td>\n",
       "    </tr>\n",
       "  </tbody>\n",
       "</table>\n",
       "</div>"
      ],
      "text/plain": [
       "  taglia  colore  prezzo  venduta\n",
       "0      S  bianco    4.99        0\n",
       "1      M  bianco   19.99        1\n",
       "2     XL  bianco   12.49        0\n",
       "3     XL  bianco   14.99        0\n",
       "4      S  bianco   14.99        1"
      ]
     },
     "execution_count": 48,
     "metadata": {},
     "output_type": "execute_result"
    }
   ],
   "source": [
    "from sklearn.preprocessing import LabelEncoder\n",
    "\n",
    "le = LabelEncoder()\n",
    "shirts[\"venduta\"] = le.fit_transform(shirts[\"venduta\"])\n",
    "shirts.head()"
   ]
  }
 ],
 "metadata": {
  "colab": {
   "name": "Operare su variabili categoriche.ipynb",
   "provenance": []
  },
  "kernelspec": {
   "display_name": "Python 3",
   "language": "python",
   "name": "python3"
  },
  "language_info": {
   "codemirror_mode": {
    "name": "ipython",
    "version": 3
   },
   "file_extension": ".py",
   "mimetype": "text/x-python",
   "name": "python",
   "nbconvert_exporter": "python",
   "pygments_lexer": "ipython3",
   "version": "3.8.8"
  }
 },
 "nbformat": 4,
 "nbformat_minor": 1
}
